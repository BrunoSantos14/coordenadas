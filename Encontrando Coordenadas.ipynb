{
 "cells": [
  {
   "cell_type": "code",
   "execution_count": 1,
   "id": "6a701be0",
   "metadata": {},
   "outputs": [],
   "source": [
    "import requests\n",
    "import pandas as pd\n",
    "import numpy as np\n",
    "from datetime import timedelta\n",
    "from geopy.geocoders import ArcGIS\n",
    "import plotly.express as px\n",
    "import time\n",
    "import re"
   ]
  },
  {
   "cell_type": "markdown",
   "id": "0fc32f59",
   "metadata": {},
   "source": [
    "### Tratando a base"
   ]
  },
  {
   "cell_type": "code",
   "execution_count": 2,
   "id": "618064c1",
   "metadata": {
    "scrolled": true
   },
   "outputs": [
    {
     "data": {
      "text/html": [
       "<div>\n",
       "<style scoped>\n",
       "    .dataframe tbody tr th:only-of-type {\n",
       "        vertical-align: middle;\n",
       "    }\n",
       "\n",
       "    .dataframe tbody tr th {\n",
       "        vertical-align: top;\n",
       "    }\n",
       "\n",
       "    .dataframe thead th {\n",
       "        text-align: right;\n",
       "    }\n",
       "</style>\n",
       "<table border=\"1\" class=\"dataframe\">\n",
       "  <thead>\n",
       "    <tr style=\"text-align: right;\">\n",
       "      <th></th>\n",
       "      <th>nome</th>\n",
       "      <th>idade</th>\n",
       "      <th>data_nasc</th>\n",
       "      <th>sexo</th>\n",
       "      <th>email</th>\n",
       "      <th>cep</th>\n",
       "      <th>rua</th>\n",
       "      <th>numero</th>\n",
       "      <th>bairro</th>\n",
       "      <th>cidade</th>\n",
       "      <th>estado</th>\n",
       "    </tr>\n",
       "  </thead>\n",
       "  <tbody>\n",
       "    <tr>\n",
       "      <th>0</th>\n",
       "      <td>Alessandra Evelyn Sebastiana Sales</td>\n",
       "      <td>32</td>\n",
       "      <td>07/03/1990</td>\n",
       "      <td>Feminino</td>\n",
       "      <td>alessandraevelynsales@gerdau.com.br</td>\n",
       "      <td>51240-500</td>\n",
       "      <td>Rua Cristino de Castro</td>\n",
       "      <td>735</td>\n",
       "      <td>Ibura</td>\n",
       "      <td>Recife</td>\n",
       "      <td>PE</td>\n",
       "    </tr>\n",
       "    <tr>\n",
       "      <th>1</th>\n",
       "      <td>Alice Regina de Paula</td>\n",
       "      <td>35</td>\n",
       "      <td>14/01/1987</td>\n",
       "      <td>Feminino</td>\n",
       "      <td>alice_regina_depaula@biconsult.com.br</td>\n",
       "      <td>60866-475</td>\n",
       "      <td>Rua 408A</td>\n",
       "      <td>333</td>\n",
       "      <td>Jangurussu</td>\n",
       "      <td>Fortaleza</td>\n",
       "      <td>CE</td>\n",
       "    </tr>\n",
       "    <tr>\n",
       "      <th>2</th>\n",
       "      <td>Amanda Teresinha Stella Monteiro</td>\n",
       "      <td>57</td>\n",
       "      <td>19/06/1965</td>\n",
       "      <td>Feminino</td>\n",
       "      <td>amanda-monteiro76@bat.com</td>\n",
       "      <td>71884-401</td>\n",
       "      <td>Quadra QS 11 Conjunto 1</td>\n",
       "      <td>370</td>\n",
       "      <td>Riacho Fundo II</td>\n",
       "      <td>Brasília</td>\n",
       "      <td>DF</td>\n",
       "    </tr>\n",
       "    <tr>\n",
       "      <th>3</th>\n",
       "      <td>Analu Stella Aragão</td>\n",
       "      <td>66</td>\n",
       "      <td>25/01/1956</td>\n",
       "      <td>Feminino</td>\n",
       "      <td>analustellaaragao@oi15.com.br</td>\n",
       "      <td>68909-853</td>\n",
       "      <td>Avenida Décima Quinta</td>\n",
       "      <td>877</td>\n",
       "      <td>Marabaixo</td>\n",
       "      <td>Macapá</td>\n",
       "      <td>AP</td>\n",
       "    </tr>\n",
       "    <tr>\n",
       "      <th>4</th>\n",
       "      <td>Andreia Helena Sophia Lima</td>\n",
       "      <td>26</td>\n",
       "      <td>17/05/1996</td>\n",
       "      <td>Feminino</td>\n",
       "      <td>andreiahelenalima@lbrazil.com.br</td>\n",
       "      <td>68900-760</td>\n",
       "      <td>Passagem Rio Branco</td>\n",
       "      <td>233</td>\n",
       "      <td>Central</td>\n",
       "      <td>Macapá</td>\n",
       "      <td>AP</td>\n",
       "    </tr>\n",
       "    <tr>\n",
       "      <th>5</th>\n",
       "      <td>Anthony Miguel Guilherme Viana</td>\n",
       "      <td>38</td>\n",
       "      <td>13/07/1984</td>\n",
       "      <td>Masculino</td>\n",
       "      <td>anthonymiguelviana@kimmay.com.br</td>\n",
       "      <td>29307-001</td>\n",
       "      <td>Escadaria Dois</td>\n",
       "      <td>431</td>\n",
       "      <td>Santa Helena</td>\n",
       "      <td>Cachoeiro de Itapemirim</td>\n",
       "      <td>ES</td>\n",
       "    </tr>\n",
       "    <tr>\n",
       "      <th>6</th>\n",
       "      <td>Aurora Isabella Mirella Galvão</td>\n",
       "      <td>77</td>\n",
       "      <td>14/09/1945</td>\n",
       "      <td>Feminino</td>\n",
       "      <td>aurora_isabella_galvao@capua.com.br</td>\n",
       "      <td>69078-090</td>\n",
       "      <td>Travessa Francisco Duarte</td>\n",
       "      <td>491</td>\n",
       "      <td>Japiim</td>\n",
       "      <td>Manaus</td>\n",
       "      <td>AM</td>\n",
       "    </tr>\n",
       "    <tr>\n",
       "      <th>7</th>\n",
       "      <td>Benício Marcos Vinicius Iago das Neves</td>\n",
       "      <td>59</td>\n",
       "      <td>23/08/1963</td>\n",
       "      <td>Masculino</td>\n",
       "      <td>benicio.marcos.dasneves@mls.com.br</td>\n",
       "      <td>57052-025</td>\n",
       "      <td>Rua Oldemburgo da Silva Paranhos</td>\n",
       "      <td>986</td>\n",
       "      <td>Pitanguinha</td>\n",
       "      <td>Maceió</td>\n",
       "      <td>AL</td>\n",
       "    </tr>\n",
       "    <tr>\n",
       "      <th>8</th>\n",
       "      <td>Benjamin Raul Castro</td>\n",
       "      <td>68</td>\n",
       "      <td>01/10/1954</td>\n",
       "      <td>Masculino</td>\n",
       "      <td>benjamin.raul.castro@igly.com.br</td>\n",
       "      <td>45600-045</td>\n",
       "      <td>Avenida Ilhéus</td>\n",
       "      <td>417</td>\n",
       "      <td>Centro</td>\n",
       "      <td>Itabuna</td>\n",
       "      <td>BA</td>\n",
       "    </tr>\n",
       "    <tr>\n",
       "      <th>9</th>\n",
       "      <td>Bruno Enzo Ian da Rosa</td>\n",
       "      <td>74</td>\n",
       "      <td>20/01/1948</td>\n",
       "      <td>Masculino</td>\n",
       "      <td>bruno.enzo.darosa@sgstelecom.com.br</td>\n",
       "      <td>86082-325</td>\n",
       "      <td>Praça Alexandre Santoro</td>\n",
       "      <td>233</td>\n",
       "      <td>Parigot de Souza 2</td>\n",
       "      <td>Londrina</td>\n",
       "      <td>PR</td>\n",
       "    </tr>\n",
       "    <tr>\n",
       "      <th>10</th>\n",
       "      <td>Caleb Bruno João Nunes</td>\n",
       "      <td>66</td>\n",
       "      <td>19/09/1956</td>\n",
       "      <td>Masculino</td>\n",
       "      <td>calebbrunonunes@fredericodiniz.com</td>\n",
       "      <td>62052-460</td>\n",
       "      <td>Rua João de Maria Linhares</td>\n",
       "      <td>778</td>\n",
       "      <td>Cohab I</td>\n",
       "      <td>Sobral</td>\n",
       "      <td>CE</td>\n",
       "    </tr>\n",
       "    <tr>\n",
       "      <th>11</th>\n",
       "      <td>Carolina Marlene Giovana Ferreira</td>\n",
       "      <td>27</td>\n",
       "      <td>02/01/1995</td>\n",
       "      <td>Feminino</td>\n",
       "      <td>carolina-ferreira97@mailinator.com</td>\n",
       "      <td>78736-098</td>\n",
       "      <td>Rua D</td>\n",
       "      <td>713</td>\n",
       "      <td>Jardim Bispo Pedro Casaldáliga</td>\n",
       "      <td>Rondonópolis</td>\n",
       "      <td>MT</td>\n",
       "    </tr>\n",
       "    <tr>\n",
       "      <th>12</th>\n",
       "      <td>Carolina Vera Teresinha Barbosa</td>\n",
       "      <td>30</td>\n",
       "      <td>27/05/1992</td>\n",
       "      <td>Feminino</td>\n",
       "      <td>carolinaverabarbosa@trbvm.com</td>\n",
       "      <td>69902-772</td>\n",
       "      <td>Rua H</td>\n",
       "      <td>879</td>\n",
       "      <td>Placas</td>\n",
       "      <td>Rio Branco</td>\n",
       "      <td>AC</td>\n",
       "    </tr>\n",
       "    <tr>\n",
       "      <th>13</th>\n",
       "      <td>Catarina Alana Rosa Porto</td>\n",
       "      <td>20</td>\n",
       "      <td>01/10/2002</td>\n",
       "      <td>Feminino</td>\n",
       "      <td>catarinaalanaporto@policiamilitar.sp.gov.br</td>\n",
       "      <td>58050-030</td>\n",
       "      <td>Rua Juiz José Saldanha</td>\n",
       "      <td>601</td>\n",
       "      <td>Castelo Branco</td>\n",
       "      <td>João Pessoa</td>\n",
       "      <td>PB</td>\n",
       "    </tr>\n",
       "    <tr>\n",
       "      <th>14</th>\n",
       "      <td>Cauã Roberto Nunes</td>\n",
       "      <td>39</td>\n",
       "      <td>03/07/1983</td>\n",
       "      <td>Masculino</td>\n",
       "      <td>cauarobertonunes@ornatopresentes.com.br</td>\n",
       "      <td>29016-160</td>\n",
       "      <td>Ladeira Giuseppe Giovanotti</td>\n",
       "      <td>304</td>\n",
       "      <td>Centro</td>\n",
       "      <td>Vitória</td>\n",
       "      <td>ES</td>\n",
       "    </tr>\n",
       "    <tr>\n",
       "      <th>15</th>\n",
       "      <td>Clara Betina Oliveira</td>\n",
       "      <td>52</td>\n",
       "      <td>21/07/1970</td>\n",
       "      <td>Feminino</td>\n",
       "      <td>clara-oliveira86@galpaoestofados.com.br</td>\n",
       "      <td>58105-712</td>\n",
       "      <td>Rua José Maria Alves Pereira</td>\n",
       "      <td>831</td>\n",
       "      <td>Jacaré</td>\n",
       "      <td>Cabedelo</td>\n",
       "      <td>PB</td>\n",
       "    </tr>\n",
       "    <tr>\n",
       "      <th>16</th>\n",
       "      <td>Eduardo Luan Barbosa</td>\n",
       "      <td>49</td>\n",
       "      <td>21/08/1973</td>\n",
       "      <td>Masculino</td>\n",
       "      <td>eduardo_barbosa@yaooh.com</td>\n",
       "      <td>59855-970</td>\n",
       "      <td>Rua Fausto Pinheiro 137</td>\n",
       "      <td>273</td>\n",
       "      <td>Centro</td>\n",
       "      <td>Itaú</td>\n",
       "      <td>RN</td>\n",
       "    </tr>\n",
       "    <tr>\n",
       "      <th>17</th>\n",
       "      <td>Elisa Cláudia Costa</td>\n",
       "      <td>61</td>\n",
       "      <td>08/03/1961</td>\n",
       "      <td>Feminino</td>\n",
       "      <td>elisaclaudiacosta@i9tec.com.br</td>\n",
       "      <td>36608-970</td>\n",
       "      <td>Rua Capitão Avelino Martins 126</td>\n",
       "      <td>530</td>\n",
       "      <td>Centro</td>\n",
       "      <td>Maripá de Minas</td>\n",
       "      <td>MG</td>\n",
       "    </tr>\n",
       "    <tr>\n",
       "      <th>18</th>\n",
       "      <td>Eloá Rita Lavínia Ramos</td>\n",
       "      <td>43</td>\n",
       "      <td>23/07/1979</td>\n",
       "      <td>Feminino</td>\n",
       "      <td>eloa_rita_ramos@albap.com.br</td>\n",
       "      <td>87706-100</td>\n",
       "      <td>Rua Sumaré</td>\n",
       "      <td>290</td>\n",
       "      <td>Jardim Santos Dumont</td>\n",
       "      <td>Paranavaí</td>\n",
       "      <td>PR</td>\n",
       "    </tr>\n",
       "    <tr>\n",
       "      <th>19</th>\n",
       "      <td>Emanuelly Sueli Nascimento</td>\n",
       "      <td>34</td>\n",
       "      <td>05/02/1988</td>\n",
       "      <td>Feminino</td>\n",
       "      <td>emanuelly_nascimento@ciaimoveissjc.com</td>\n",
       "      <td>78150-844</td>\n",
       "      <td>Rua Canarana</td>\n",
       "      <td>376</td>\n",
       "      <td>Santa Isabel</td>\n",
       "      <td>Várzea Grande</td>\n",
       "      <td>MT</td>\n",
       "    </tr>\n",
       "    <tr>\n",
       "      <th>20</th>\n",
       "      <td>Emilly Malu Beatriz Ramos</td>\n",
       "      <td>46</td>\n",
       "      <td>11/02/1976</td>\n",
       "      <td>Feminino</td>\n",
       "      <td>emilly_ramos@lojaprincezinha.com.br</td>\n",
       "      <td>88134-111</td>\n",
       "      <td>Rua Jasmim</td>\n",
       "      <td>271</td>\n",
       "      <td>Pacheco</td>\n",
       "      <td>Palhoça</td>\n",
       "      <td>SC</td>\n",
       "    </tr>\n",
       "    <tr>\n",
       "      <th>21</th>\n",
       "      <td>Erick Caio Rodrigues</td>\n",
       "      <td>32</td>\n",
       "      <td>14/05/1990</td>\n",
       "      <td>Masculino</td>\n",
       "      <td>erick-rodrigues76@compuativa.com.br</td>\n",
       "      <td>66815-067</td>\n",
       "      <td>Passagem Brasilia</td>\n",
       "      <td>137</td>\n",
       "      <td>Maracacuera (Icoaraci)</td>\n",
       "      <td>Belém</td>\n",
       "      <td>PA</td>\n",
       "    </tr>\n",
       "    <tr>\n",
       "      <th>22</th>\n",
       "      <td>Gabrielly Malu Emanuelly Jesus</td>\n",
       "      <td>58</td>\n",
       "      <td>22/01/1964</td>\n",
       "      <td>Feminino</td>\n",
       "      <td>gabrielly.malu.jesus@cathedranet.com.br</td>\n",
       "      <td>69313-018</td>\n",
       "      <td>Rua Paricá</td>\n",
       "      <td>796</td>\n",
       "      <td>Jóquei Clube</td>\n",
       "      <td>Boa Vista</td>\n",
       "      <td>RR</td>\n",
       "    </tr>\n",
       "    <tr>\n",
       "      <th>23</th>\n",
       "      <td>Gael Benjamin Lima</td>\n",
       "      <td>19</td>\n",
       "      <td>03/05/2003</td>\n",
       "      <td>Masculino</td>\n",
       "      <td>gael-lima92@eanac.com.br</td>\n",
       "      <td>58400-135</td>\n",
       "      <td>Rua Júlia Barreto de Melo</td>\n",
       "      <td>689</td>\n",
       "      <td>Centro</td>\n",
       "      <td>Campina Grande</td>\n",
       "      <td>PB</td>\n",
       "    </tr>\n",
       "    <tr>\n",
       "      <th>24</th>\n",
       "      <td>Gael Fábio Rodrigo Barros</td>\n",
       "      <td>62</td>\n",
       "      <td>11/02/1960</td>\n",
       "      <td>Masculino</td>\n",
       "      <td>gael-barros78@jovempanfmtaubate.com.br</td>\n",
       "      <td>71536-080</td>\n",
       "      <td>Trecho Trecho 03</td>\n",
       "      <td>282</td>\n",
       "      <td>Setor de Habitações Individuais Norte</td>\n",
       "      <td>Brasília</td>\n",
       "      <td>DF</td>\n",
       "    </tr>\n",
       "    <tr>\n",
       "      <th>25</th>\n",
       "      <td>Heitor Marcelo da Mata</td>\n",
       "      <td>70</td>\n",
       "      <td>15/02/1952</td>\n",
       "      <td>Masculino</td>\n",
       "      <td>heitor_damata@freitasepozzatti.com.br</td>\n",
       "      <td>49008-256</td>\n",
       "      <td>Travessa Matapoã II</td>\n",
       "      <td>521</td>\n",
       "      <td>Zona de Expansão (Mosqueiro)</td>\n",
       "      <td>Aracaju</td>\n",
       "      <td>SE</td>\n",
       "    </tr>\n",
       "    <tr>\n",
       "      <th>26</th>\n",
       "      <td>Heloise Fabiana Almeida</td>\n",
       "      <td>58</td>\n",
       "      <td>17/05/1964</td>\n",
       "      <td>Feminino</td>\n",
       "      <td>heloise_almeida@facebook.com</td>\n",
       "      <td>38444-000</td>\n",
       "      <td>Rua Professora Lourdes Naves</td>\n",
       "      <td>878</td>\n",
       "      <td>Centro</td>\n",
       "      <td>Araguari</td>\n",
       "      <td>MG</td>\n",
       "    </tr>\n",
       "    <tr>\n",
       "      <th>27</th>\n",
       "      <td>Isaac Elias Campos</td>\n",
       "      <td>47</td>\n",
       "      <td>03/10/1975</td>\n",
       "      <td>Masculino</td>\n",
       "      <td>isaaceliascampos@rafaeladson.com</td>\n",
       "      <td>29104-359</td>\n",
       "      <td>Avenida Canal da Costa</td>\n",
       "      <td>304</td>\n",
       "      <td>Ilha dos Bentos</td>\n",
       "      <td>Vila Velha</td>\n",
       "      <td>ES</td>\n",
       "    </tr>\n",
       "    <tr>\n",
       "      <th>28</th>\n",
       "      <td>João Gabriel Novaes</td>\n",
       "      <td>32</td>\n",
       "      <td>02/10/1990</td>\n",
       "      <td>Masculino</td>\n",
       "      <td>joaogabrielnovaes@gruposimoes.com.br</td>\n",
       "      <td>72906-035</td>\n",
       "      <td>Quadra Quadra 8</td>\n",
       "      <td>223</td>\n",
       "      <td>Mansões Bittencourt</td>\n",
       "      <td>Santo Antônio do Descoberto</td>\n",
       "      <td>GO</td>\n",
       "    </tr>\n",
       "    <tr>\n",
       "      <th>29</th>\n",
       "      <td>José Pedro Breno Alves</td>\n",
       "      <td>51</td>\n",
       "      <td>19/02/1971</td>\n",
       "      <td>Masculino</td>\n",
       "      <td>jose_pedro_alves@freitasprior.com.br</td>\n",
       "      <td>82540-340</td>\n",
       "      <td>Rua Djalma Soares</td>\n",
       "      <td>657</td>\n",
       "      <td>Boa Vista</td>\n",
       "      <td>Curitiba</td>\n",
       "      <td>PR</td>\n",
       "    </tr>\n",
       "    <tr>\n",
       "      <th>30</th>\n",
       "      <td>José Raul Luiz da Costa</td>\n",
       "      <td>27</td>\n",
       "      <td>20/03/1995</td>\n",
       "      <td>Masculino</td>\n",
       "      <td>jose_raul_dacosta@uel.br</td>\n",
       "      <td>78098-178</td>\n",
       "      <td>Rua M</td>\n",
       "      <td>939</td>\n",
       "      <td>Pascoal Ramos</td>\n",
       "      <td>Cuiabá</td>\n",
       "      <td>MT</td>\n",
       "    </tr>\n",
       "    <tr>\n",
       "      <th>31</th>\n",
       "      <td>Juliana Jaqueline Melo</td>\n",
       "      <td>36</td>\n",
       "      <td>16/05/1986</td>\n",
       "      <td>Feminino</td>\n",
       "      <td>juliana.jaqueline.melo@diebold.com</td>\n",
       "      <td>49037-719</td>\n",
       "      <td>Rua F</td>\n",
       "      <td>489</td>\n",
       "      <td>Aeroporto</td>\n",
       "      <td>Aracaju</td>\n",
       "      <td>SE</td>\n",
       "    </tr>\n",
       "    <tr>\n",
       "      <th>32</th>\n",
       "      <td>Kauê Victor Thomas da Mota</td>\n",
       "      <td>59</td>\n",
       "      <td>21/06/1963</td>\n",
       "      <td>Masculino</td>\n",
       "      <td>kaue_damota@nokia.com</td>\n",
       "      <td>86025-670</td>\n",
       "      <td>Rua Doutor Vicente Machado</td>\n",
       "      <td>975</td>\n",
       "      <td>Bom Retiro</td>\n",
       "      <td>Londrina</td>\n",
       "      <td>PR</td>\n",
       "    </tr>\n",
       "    <tr>\n",
       "      <th>33</th>\n",
       "      <td>Laís Beatriz Freitas</td>\n",
       "      <td>32</td>\n",
       "      <td>07/08/1990</td>\n",
       "      <td>Feminino</td>\n",
       "      <td>lais.beatriz.freitas@wwlimpador.com.br</td>\n",
       "      <td>79823-610</td>\n",
       "      <td>Rua Eikishi Sakaguti</td>\n",
       "      <td>546</td>\n",
       "      <td>Altos do Indaiá</td>\n",
       "      <td>Dourados</td>\n",
       "      <td>MS</td>\n",
       "    </tr>\n",
       "    <tr>\n",
       "      <th>34</th>\n",
       "      <td>Larissa Fátima Priscila Assis</td>\n",
       "      <td>72</td>\n",
       "      <td>09/02/1950</td>\n",
       "      <td>Feminino</td>\n",
       "      <td>larissa_assis@hotmnail.com</td>\n",
       "      <td>69918-850</td>\n",
       "      <td>Rua Valdomiro Lopes</td>\n",
       "      <td>850</td>\n",
       "      <td>Conquista</td>\n",
       "      <td>Rio Branco</td>\n",
       "      <td>AC</td>\n",
       "    </tr>\n",
       "    <tr>\n",
       "      <th>35</th>\n",
       "      <td>Laura Nicole Novaes</td>\n",
       "      <td>75</td>\n",
       "      <td>14/03/1947</td>\n",
       "      <td>Feminino</td>\n",
       "      <td>laura-novaes83@dcazzainteriores.com.br</td>\n",
       "      <td>83607-210</td>\n",
       "      <td>Rua Zeferino Marchiorato</td>\n",
       "      <td>972</td>\n",
       "      <td>Vila Elizabeth</td>\n",
       "      <td>Campo Largo</td>\n",
       "      <td>PR</td>\n",
       "    </tr>\n",
       "    <tr>\n",
       "      <th>36</th>\n",
       "      <td>Leonardo Nelson Davi Pereira</td>\n",
       "      <td>45</td>\n",
       "      <td>13/02/1977</td>\n",
       "      <td>Masculino</td>\n",
       "      <td>leonardo_pereira@grupoarteoficio.com.br</td>\n",
       "      <td>60410-420</td>\n",
       "      <td>Travessa São Luís</td>\n",
       "      <td>966</td>\n",
       "      <td>Jardim América</td>\n",
       "      <td>Fortaleza</td>\n",
       "      <td>CE</td>\n",
       "    </tr>\n",
       "    <tr>\n",
       "      <th>37</th>\n",
       "      <td>Lorenzo Henrique Aparício</td>\n",
       "      <td>40</td>\n",
       "      <td>27/04/1982</td>\n",
       "      <td>Masculino</td>\n",
       "      <td>lorenzo-aparicio73@indaiamidias.com.br</td>\n",
       "      <td>69084-222</td>\n",
       "      <td>Rua dos Lagos</td>\n",
       "      <td>952</td>\n",
       "      <td>Zumbi dos Palmares</td>\n",
       "      <td>Manaus</td>\n",
       "      <td>AM</td>\n",
       "    </tr>\n",
       "    <tr>\n",
       "      <th>38</th>\n",
       "      <td>Lucca Caleb Marcos Vinicius Rocha</td>\n",
       "      <td>35</td>\n",
       "      <td>09/06/1987</td>\n",
       "      <td>Masculino</td>\n",
       "      <td>luccacalebrocha@belaggiovini.com.br</td>\n",
       "      <td>78052-504</td>\n",
       "      <td>Rua Dezesseis</td>\n",
       "      <td>688</td>\n",
       "      <td>Jardim Brasil</td>\n",
       "      <td>Cuiabá</td>\n",
       "      <td>MT</td>\n",
       "    </tr>\n",
       "    <tr>\n",
       "      <th>39</th>\n",
       "      <td>Marcelo Fernando Jesus</td>\n",
       "      <td>49</td>\n",
       "      <td>19/07/1973</td>\n",
       "      <td>Masculino</td>\n",
       "      <td>marcelo-jesus74@torah.com.br</td>\n",
       "      <td>49080-220</td>\n",
       "      <td>Avenida Estados Unidos</td>\n",
       "      <td>139</td>\n",
       "      <td>América</td>\n",
       "      <td>Aracaju</td>\n",
       "      <td>SE</td>\n",
       "    </tr>\n",
       "    <tr>\n",
       "      <th>40</th>\n",
       "      <td>Márcio Bento Matheus Mendes</td>\n",
       "      <td>29</td>\n",
       "      <td>14/03/1993</td>\n",
       "      <td>Masculino</td>\n",
       "      <td>marcio-mendes89@montcalm.com.br</td>\n",
       "      <td>75520-180</td>\n",
       "      <td>Rua Lupicínio de Araújo</td>\n",
       "      <td>261</td>\n",
       "      <td>Setor Nossa Senhora da Saúde</td>\n",
       "      <td>Itumbiara</td>\n",
       "      <td>GO</td>\n",
       "    </tr>\n",
       "    <tr>\n",
       "      <th>41</th>\n",
       "      <td>Marina Carolina Stella Melo</td>\n",
       "      <td>61</td>\n",
       "      <td>15/08/1961</td>\n",
       "      <td>Feminino</td>\n",
       "      <td>marina.carolina.melo@pq.cnpq.br</td>\n",
       "      <td>91910-700</td>\n",
       "      <td>Rua Emílio Baldino</td>\n",
       "      <td>530</td>\n",
       "      <td>Camaquã</td>\n",
       "      <td>Porto Alegre</td>\n",
       "      <td>RS</td>\n",
       "    </tr>\n",
       "    <tr>\n",
       "      <th>42</th>\n",
       "      <td>Mirella Natália Pietra Fernandes</td>\n",
       "      <td>44</td>\n",
       "      <td>27/08/1978</td>\n",
       "      <td>Feminino</td>\n",
       "      <td>mirella.natalia.fernandes@ligananet.com.br</td>\n",
       "      <td>16206-110</td>\n",
       "      <td>Alameda dos Topázios</td>\n",
       "      <td>264</td>\n",
       "      <td>Residencial De Colores</td>\n",
       "      <td>Birigüi</td>\n",
       "      <td>SP</td>\n",
       "    </tr>\n",
       "    <tr>\n",
       "      <th>43</th>\n",
       "      <td>Nicolas Giovanni Baptista</td>\n",
       "      <td>79</td>\n",
       "      <td>02/08/1943</td>\n",
       "      <td>Masculino</td>\n",
       "      <td>nicolasgiovannibaptista@saa.com.br</td>\n",
       "      <td>29113-754</td>\n",
       "      <td>Rua Lucilândia</td>\n",
       "      <td>806</td>\n",
       "      <td>Jardim do Vale</td>\n",
       "      <td>Vila Velha</td>\n",
       "      <td>ES</td>\n",
       "    </tr>\n",
       "    <tr>\n",
       "      <th>44</th>\n",
       "      <td>Otávio Tomás Osvaldo Santos</td>\n",
       "      <td>46</td>\n",
       "      <td>18/05/1976</td>\n",
       "      <td>Masculino</td>\n",
       "      <td>otavio_santos@reval.net</td>\n",
       "      <td>77018-409</td>\n",
       "      <td>Quadra 1003 Sul Alameda 23</td>\n",
       "      <td>838</td>\n",
       "      <td>Plano Diretor Sul</td>\n",
       "      <td>Palmas</td>\n",
       "      <td>TO</td>\n",
       "    </tr>\n",
       "    <tr>\n",
       "      <th>45</th>\n",
       "      <td>Raimunda Alana Aparício</td>\n",
       "      <td>33</td>\n",
       "      <td>24/06/1989</td>\n",
       "      <td>Feminino</td>\n",
       "      <td>raimunda_alana_aparicio@mavex.com.br</td>\n",
       "      <td>76813-534</td>\n",
       "      <td>Rua Anchieta</td>\n",
       "      <td>889</td>\n",
       "      <td>Mariana</td>\n",
       "      <td>Porto Velho</td>\n",
       "      <td>RO</td>\n",
       "    </tr>\n",
       "    <tr>\n",
       "      <th>46</th>\n",
       "      <td>Raquel Agatha dos Santos</td>\n",
       "      <td>56</td>\n",
       "      <td>19/02/1966</td>\n",
       "      <td>Feminino</td>\n",
       "      <td>raquel_dossantos@original-veiculos.com.br</td>\n",
       "      <td>60877-230</td>\n",
       "      <td>Rua F</td>\n",
       "      <td>341</td>\n",
       "      <td>Jangurussu</td>\n",
       "      <td>Fortaleza</td>\n",
       "      <td>CE</td>\n",
       "    </tr>\n",
       "    <tr>\n",
       "      <th>47</th>\n",
       "      <td>Ricardo Benjamin Carvalho</td>\n",
       "      <td>40</td>\n",
       "      <td>01/10/1982</td>\n",
       "      <td>Masculino</td>\n",
       "      <td>ricardobenjamincarvalho@bbcreative.org</td>\n",
       "      <td>58108-012</td>\n",
       "      <td>Rodovia BR-230</td>\n",
       "      <td>262</td>\n",
       "      <td>Renascer</td>\n",
       "      <td>Cabedelo</td>\n",
       "      <td>PB</td>\n",
       "    </tr>\n",
       "    <tr>\n",
       "      <th>48</th>\n",
       "      <td>Roberto Pietro Aragão</td>\n",
       "      <td>27</td>\n",
       "      <td>27/03/1995</td>\n",
       "      <td>Masculino</td>\n",
       "      <td>roberto_aragao@tjrj.jus.br</td>\n",
       "      <td>59110-170</td>\n",
       "      <td>Rua Cantagalo</td>\n",
       "      <td>378</td>\n",
       "      <td>Potengi</td>\n",
       "      <td>Natal</td>\n",
       "      <td>RN</td>\n",
       "    </tr>\n",
       "    <tr>\n",
       "      <th>49</th>\n",
       "      <td>Rodrigo Bryan José Monteiro</td>\n",
       "      <td>37</td>\n",
       "      <td>08/03/1985</td>\n",
       "      <td>Masculino</td>\n",
       "      <td>rodrigo_bryan_monteiro@usa.com</td>\n",
       "      <td>68905-514</td>\n",
       "      <td>Rua Canal do Perpéto Socorro</td>\n",
       "      <td>192</td>\n",
       "      <td>Perpétuo Socorro</td>\n",
       "      <td>Macapá</td>\n",
       "      <td>AP</td>\n",
       "    </tr>\n",
       "    <tr>\n",
       "      <th>50</th>\n",
       "      <td>Sabrina Vera Emanuelly Porto</td>\n",
       "      <td>27</td>\n",
       "      <td>21/08/1995</td>\n",
       "      <td>Feminino</td>\n",
       "      <td>sabrina_porto@guiamaritimo.com.br</td>\n",
       "      <td>76913-569</td>\n",
       "      <td>Rua Tarauacá</td>\n",
       "      <td>930</td>\n",
       "      <td>São Pedro</td>\n",
       "      <td>Ji-Paraná</td>\n",
       "      <td>RO</td>\n",
       "    </tr>\n",
       "    <tr>\n",
       "      <th>51</th>\n",
       "      <td>Sarah Nina da Luz</td>\n",
       "      <td>79</td>\n",
       "      <td>25/08/1943</td>\n",
       "      <td>Feminino</td>\n",
       "      <td>sarah-daluz77@molsanto.com</td>\n",
       "      <td>72551-400</td>\n",
       "      <td>Rodovia DF-489</td>\n",
       "      <td>578</td>\n",
       "      <td>Núcleo Rural Alagados (Santa Maria)</td>\n",
       "      <td>Brasília</td>\n",
       "      <td>DF</td>\n",
       "    </tr>\n",
       "    <tr>\n",
       "      <th>52</th>\n",
       "      <td>Sebastião Diogo Martins</td>\n",
       "      <td>51</td>\n",
       "      <td>17/04/1971</td>\n",
       "      <td>Masculino</td>\n",
       "      <td>sebastiao_diogo_martins@cafefrossard.com</td>\n",
       "      <td>77420-010</td>\n",
       "      <td>Avenida Pioneira</td>\n",
       "      <td>519</td>\n",
       "      <td>Jardim das Bandeiras</td>\n",
       "      <td>Gurupi</td>\n",
       "      <td>TO</td>\n",
       "    </tr>\n",
       "    <tr>\n",
       "      <th>53</th>\n",
       "      <td>Sebastião Yuri Oliver Farias</td>\n",
       "      <td>61</td>\n",
       "      <td>26/01/1961</td>\n",
       "      <td>Masculino</td>\n",
       "      <td>sebastiao-farias96@vetech.vet.br</td>\n",
       "      <td>99066-010</td>\n",
       "      <td>Avenida Mauá</td>\n",
       "      <td>640</td>\n",
       "      <td>Roselândia</td>\n",
       "      <td>Passo Fundo</td>\n",
       "      <td>RS</td>\n",
       "    </tr>\n",
       "    <tr>\n",
       "      <th>54</th>\n",
       "      <td>Silvana Lara Corte Real</td>\n",
       "      <td>50</td>\n",
       "      <td>08/07/1972</td>\n",
       "      <td>Feminino</td>\n",
       "      <td>silvana_lara_cortereal@dafitex.com.br</td>\n",
       "      <td>27286-349</td>\n",
       "      <td>Rua Dois</td>\n",
       "      <td>354</td>\n",
       "      <td>São Luís</td>\n",
       "      <td>Volta Redonda</td>\n",
       "      <td>RJ</td>\n",
       "    </tr>\n",
       "    <tr>\n",
       "      <th>55</th>\n",
       "      <td>Silvana Luana Pires</td>\n",
       "      <td>66</td>\n",
       "      <td>23/02/1956</td>\n",
       "      <td>Feminino</td>\n",
       "      <td>silvana-pires97@zipmail.com</td>\n",
       "      <td>96820-860</td>\n",
       "      <td>Rua do Riacho</td>\n",
       "      <td>316</td>\n",
       "      <td>Santo Inácio</td>\n",
       "      <td>Santa Cruz do Sul</td>\n",
       "      <td>RS</td>\n",
       "    </tr>\n",
       "    <tr>\n",
       "      <th>56</th>\n",
       "      <td>Simone Kamilly Bárbara da Cunha</td>\n",
       "      <td>65</td>\n",
       "      <td>13/03/1957</td>\n",
       "      <td>Feminino</td>\n",
       "      <td>simone-dacunha72@sandvik.com</td>\n",
       "      <td>89162-129</td>\n",
       "      <td>Rua Otto Keske</td>\n",
       "      <td>388</td>\n",
       "      <td>Rainha</td>\n",
       "      <td>Rio do Sul</td>\n",
       "      <td>SC</td>\n",
       "    </tr>\n",
       "    <tr>\n",
       "      <th>57</th>\n",
       "      <td>Stefany Rosa das Neves</td>\n",
       "      <td>62</td>\n",
       "      <td>06/01/1960</td>\n",
       "      <td>Feminino</td>\n",
       "      <td>stefany_dasneves@prlme.com.br</td>\n",
       "      <td>63030-007</td>\n",
       "      <td>Vila Três Irmãos</td>\n",
       "      <td>352</td>\n",
       "      <td>Limoeiro</td>\n",
       "      <td>Juazeiro do Norte</td>\n",
       "      <td>CE</td>\n",
       "    </tr>\n",
       "    <tr>\n",
       "      <th>58</th>\n",
       "      <td>Thiago Guilherme da Cruz</td>\n",
       "      <td>49</td>\n",
       "      <td>19/09/1973</td>\n",
       "      <td>Masculino</td>\n",
       "      <td>thiago.guilherme.dacruz@doucedoce.com.br</td>\n",
       "      <td>86010-720</td>\n",
       "      <td>Rua Colômbia</td>\n",
       "      <td>355</td>\n",
       "      <td>Vila Brasil</td>\n",
       "      <td>Londrina</td>\n",
       "      <td>PR</td>\n",
       "    </tr>\n",
       "    <tr>\n",
       "      <th>59</th>\n",
       "      <td>Vitória Liz Isabelly Alves</td>\n",
       "      <td>22</td>\n",
       "      <td>05/02/2000</td>\n",
       "      <td>Feminino</td>\n",
       "      <td>vitoria.liz.alves@revati.com.br</td>\n",
       "      <td>33944-260</td>\n",
       "      <td>Rua Fernando Francisco de Souza</td>\n",
       "      <td>981</td>\n",
       "      <td>Viena (Justinópolis)</td>\n",
       "      <td>Ribeirão das Neves</td>\n",
       "      <td>MG</td>\n",
       "    </tr>\n",
       "  </tbody>\n",
       "</table>\n",
       "</div>"
      ],
      "text/plain": [
       "                                      nome  idade   data_nasc       sexo  \\\n",
       "0       Alessandra Evelyn Sebastiana Sales     32  07/03/1990   Feminino   \n",
       "1                    Alice Regina de Paula     35  14/01/1987   Feminino   \n",
       "2         Amanda Teresinha Stella Monteiro     57  19/06/1965   Feminino   \n",
       "3                      Analu Stella Aragão     66  25/01/1956   Feminino   \n",
       "4               Andreia Helena Sophia Lima     26  17/05/1996   Feminino   \n",
       "5           Anthony Miguel Guilherme Viana     38  13/07/1984  Masculino   \n",
       "6           Aurora Isabella Mirella Galvão     77  14/09/1945   Feminino   \n",
       "7   Benício Marcos Vinicius Iago das Neves     59  23/08/1963  Masculino   \n",
       "8                     Benjamin Raul Castro     68  01/10/1954  Masculino   \n",
       "9                   Bruno Enzo Ian da Rosa     74  20/01/1948  Masculino   \n",
       "10                  Caleb Bruno João Nunes     66  19/09/1956  Masculino   \n",
       "11       Carolina Marlene Giovana Ferreira     27  02/01/1995   Feminino   \n",
       "12         Carolina Vera Teresinha Barbosa     30  27/05/1992   Feminino   \n",
       "13               Catarina Alana Rosa Porto     20  01/10/2002   Feminino   \n",
       "14                      Cauã Roberto Nunes     39  03/07/1983  Masculino   \n",
       "15                   Clara Betina Oliveira     52  21/07/1970   Feminino   \n",
       "16                    Eduardo Luan Barbosa     49  21/08/1973  Masculino   \n",
       "17                     Elisa Cláudia Costa     61  08/03/1961   Feminino   \n",
       "18                 Eloá Rita Lavínia Ramos     43  23/07/1979   Feminino   \n",
       "19              Emanuelly Sueli Nascimento     34  05/02/1988   Feminino   \n",
       "20               Emilly Malu Beatriz Ramos     46  11/02/1976   Feminino   \n",
       "21                    Erick Caio Rodrigues     32  14/05/1990  Masculino   \n",
       "22          Gabrielly Malu Emanuelly Jesus     58  22/01/1964   Feminino   \n",
       "23                      Gael Benjamin Lima     19  03/05/2003  Masculino   \n",
       "24               Gael Fábio Rodrigo Barros     62  11/02/1960  Masculino   \n",
       "25                  Heitor Marcelo da Mata     70  15/02/1952  Masculino   \n",
       "26                 Heloise Fabiana Almeida     58  17/05/1964   Feminino   \n",
       "27                      Isaac Elias Campos     47  03/10/1975  Masculino   \n",
       "28                     João Gabriel Novaes     32  02/10/1990  Masculino   \n",
       "29                  José Pedro Breno Alves     51  19/02/1971  Masculino   \n",
       "30                 José Raul Luiz da Costa     27  20/03/1995  Masculino   \n",
       "31                  Juliana Jaqueline Melo     36  16/05/1986   Feminino   \n",
       "32              Kauê Victor Thomas da Mota     59  21/06/1963  Masculino   \n",
       "33                    Laís Beatriz Freitas     32  07/08/1990   Feminino   \n",
       "34           Larissa Fátima Priscila Assis     72  09/02/1950   Feminino   \n",
       "35                     Laura Nicole Novaes     75  14/03/1947   Feminino   \n",
       "36            Leonardo Nelson Davi Pereira     45  13/02/1977  Masculino   \n",
       "37               Lorenzo Henrique Aparício     40  27/04/1982  Masculino   \n",
       "38       Lucca Caleb Marcos Vinicius Rocha     35  09/06/1987  Masculino   \n",
       "39                  Marcelo Fernando Jesus     49  19/07/1973  Masculino   \n",
       "40             Márcio Bento Matheus Mendes     29  14/03/1993  Masculino   \n",
       "41             Marina Carolina Stella Melo     61  15/08/1961   Feminino   \n",
       "42        Mirella Natália Pietra Fernandes     44  27/08/1978   Feminino   \n",
       "43               Nicolas Giovanni Baptista     79  02/08/1943  Masculino   \n",
       "44             Otávio Tomás Osvaldo Santos     46  18/05/1976  Masculino   \n",
       "45                 Raimunda Alana Aparício     33  24/06/1989   Feminino   \n",
       "46                Raquel Agatha dos Santos     56  19/02/1966   Feminino   \n",
       "47               Ricardo Benjamin Carvalho     40  01/10/1982  Masculino   \n",
       "48                   Roberto Pietro Aragão     27  27/03/1995  Masculino   \n",
       "49             Rodrigo Bryan José Monteiro     37  08/03/1985  Masculino   \n",
       "50            Sabrina Vera Emanuelly Porto     27  21/08/1995   Feminino   \n",
       "51                       Sarah Nina da Luz     79  25/08/1943   Feminino   \n",
       "52                 Sebastião Diogo Martins     51  17/04/1971  Masculino   \n",
       "53            Sebastião Yuri Oliver Farias     61  26/01/1961  Masculino   \n",
       "54                 Silvana Lara Corte Real     50  08/07/1972   Feminino   \n",
       "55                     Silvana Luana Pires     66  23/02/1956   Feminino   \n",
       "56         Simone Kamilly Bárbara da Cunha     65  13/03/1957   Feminino   \n",
       "57                  Stefany Rosa das Neves     62  06/01/1960   Feminino   \n",
       "58                Thiago Guilherme da Cruz     49  19/09/1973  Masculino   \n",
       "59              Vitória Liz Isabelly Alves     22  05/02/2000   Feminino   \n",
       "\n",
       "                                          email        cep  \\\n",
       "0           alessandraevelynsales@gerdau.com.br  51240-500   \n",
       "1         alice_regina_depaula@biconsult.com.br  60866-475   \n",
       "2                     amanda-monteiro76@bat.com  71884-401   \n",
       "3                 analustellaaragao@oi15.com.br  68909-853   \n",
       "4              andreiahelenalima@lbrazil.com.br  68900-760   \n",
       "5              anthonymiguelviana@kimmay.com.br  29307-001   \n",
       "6           aurora_isabella_galvao@capua.com.br  69078-090   \n",
       "7            benicio.marcos.dasneves@mls.com.br  57052-025   \n",
       "8              benjamin.raul.castro@igly.com.br  45600-045   \n",
       "9           bruno.enzo.darosa@sgstelecom.com.br  86082-325   \n",
       "10           calebbrunonunes@fredericodiniz.com  62052-460   \n",
       "11           carolina-ferreira97@mailinator.com  78736-098   \n",
       "12                carolinaverabarbosa@trbvm.com  69902-772   \n",
       "13  catarinaalanaporto@policiamilitar.sp.gov.br  58050-030   \n",
       "14      cauarobertonunes@ornatopresentes.com.br  29016-160   \n",
       "15      clara-oliveira86@galpaoestofados.com.br  58105-712   \n",
       "16                    eduardo_barbosa@yaooh.com  59855-970   \n",
       "17               elisaclaudiacosta@i9tec.com.br  36608-970   \n",
       "18                 eloa_rita_ramos@albap.com.br  87706-100   \n",
       "19       emanuelly_nascimento@ciaimoveissjc.com  78150-844   \n",
       "20          emilly_ramos@lojaprincezinha.com.br  88134-111   \n",
       "21          erick-rodrigues76@compuativa.com.br  66815-067   \n",
       "22      gabrielly.malu.jesus@cathedranet.com.br  69313-018   \n",
       "23                     gael-lima92@eanac.com.br  58400-135   \n",
       "24       gael-barros78@jovempanfmtaubate.com.br  71536-080   \n",
       "25        heitor_damata@freitasepozzatti.com.br  49008-256   \n",
       "26                 heloise_almeida@facebook.com  38444-000   \n",
       "27             isaaceliascampos@rafaeladson.com  29104-359   \n",
       "28         joaogabrielnovaes@gruposimoes.com.br  72906-035   \n",
       "29         jose_pedro_alves@freitasprior.com.br  82540-340   \n",
       "30                     jose_raul_dacosta@uel.br  78098-178   \n",
       "31           juliana.jaqueline.melo@diebold.com  49037-719   \n",
       "32                        kaue_damota@nokia.com  86025-670   \n",
       "33       lais.beatriz.freitas@wwlimpador.com.br  79823-610   \n",
       "34                   larissa_assis@hotmnail.com  69918-850   \n",
       "35       laura-novaes83@dcazzainteriores.com.br  83607-210   \n",
       "36      leonardo_pereira@grupoarteoficio.com.br  60410-420   \n",
       "37       lorenzo-aparicio73@indaiamidias.com.br  69084-222   \n",
       "38          luccacalebrocha@belaggiovini.com.br  78052-504   \n",
       "39                 marcelo-jesus74@torah.com.br  49080-220   \n",
       "40              marcio-mendes89@montcalm.com.br  75520-180   \n",
       "41              marina.carolina.melo@pq.cnpq.br  91910-700   \n",
       "42   mirella.natalia.fernandes@ligananet.com.br  16206-110   \n",
       "43           nicolasgiovannibaptista@saa.com.br  29113-754   \n",
       "44                      otavio_santos@reval.net  77018-409   \n",
       "45         raimunda_alana_aparicio@mavex.com.br  76813-534   \n",
       "46    raquel_dossantos@original-veiculos.com.br  60877-230   \n",
       "47       ricardobenjamincarvalho@bbcreative.org  58108-012   \n",
       "48                   roberto_aragao@tjrj.jus.br  59110-170   \n",
       "49               rodrigo_bryan_monteiro@usa.com  68905-514   \n",
       "50            sabrina_porto@guiamaritimo.com.br  76913-569   \n",
       "51                   sarah-daluz77@molsanto.com  72551-400   \n",
       "52     sebastiao_diogo_martins@cafefrossard.com  77420-010   \n",
       "53             sebastiao-farias96@vetech.vet.br  99066-010   \n",
       "54        silvana_lara_cortereal@dafitex.com.br  27286-349   \n",
       "55                  silvana-pires97@zipmail.com  96820-860   \n",
       "56                 simone-dacunha72@sandvik.com  89162-129   \n",
       "57                stefany_dasneves@prlme.com.br  63030-007   \n",
       "58     thiago.guilherme.dacruz@doucedoce.com.br  86010-720   \n",
       "59              vitoria.liz.alves@revati.com.br  33944-260   \n",
       "\n",
       "                                 rua  numero  \\\n",
       "0             Rua Cristino de Castro     735   \n",
       "1                           Rua 408A     333   \n",
       "2            Quadra QS 11 Conjunto 1     370   \n",
       "3              Avenida Décima Quinta     877   \n",
       "4                Passagem Rio Branco     233   \n",
       "5                     Escadaria Dois     431   \n",
       "6          Travessa Francisco Duarte     491   \n",
       "7   Rua Oldemburgo da Silva Paranhos     986   \n",
       "8                     Avenida Ilhéus     417   \n",
       "9            Praça Alexandre Santoro     233   \n",
       "10        Rua João de Maria Linhares     778   \n",
       "11                             Rua D     713   \n",
       "12                             Rua H     879   \n",
       "13            Rua Juiz José Saldanha     601   \n",
       "14       Ladeira Giuseppe Giovanotti     304   \n",
       "15      Rua José Maria Alves Pereira     831   \n",
       "16           Rua Fausto Pinheiro 137     273   \n",
       "17   Rua Capitão Avelino Martins 126     530   \n",
       "18                        Rua Sumaré     290   \n",
       "19                      Rua Canarana     376   \n",
       "20                        Rua Jasmim     271   \n",
       "21                 Passagem Brasilia     137   \n",
       "22                        Rua Paricá     796   \n",
       "23         Rua Júlia Barreto de Melo     689   \n",
       "24                  Trecho Trecho 03     282   \n",
       "25               Travessa Matapoã II     521   \n",
       "26      Rua Professora Lourdes Naves     878   \n",
       "27            Avenida Canal da Costa     304   \n",
       "28                   Quadra Quadra 8     223   \n",
       "29                 Rua Djalma Soares     657   \n",
       "30                             Rua M     939   \n",
       "31                             Rua F     489   \n",
       "32        Rua Doutor Vicente Machado     975   \n",
       "33              Rua Eikishi Sakaguti     546   \n",
       "34               Rua Valdomiro Lopes     850   \n",
       "35          Rua Zeferino Marchiorato     972   \n",
       "36                 Travessa São Luís     966   \n",
       "37                     Rua dos Lagos     952   \n",
       "38                     Rua Dezesseis     688   \n",
       "39            Avenida Estados Unidos     139   \n",
       "40           Rua Lupicínio de Araújo     261   \n",
       "41                Rua Emílio Baldino     530   \n",
       "42              Alameda dos Topázios     264   \n",
       "43                    Rua Lucilândia     806   \n",
       "44        Quadra 1003 Sul Alameda 23     838   \n",
       "45                      Rua Anchieta     889   \n",
       "46                             Rua F     341   \n",
       "47                    Rodovia BR-230     262   \n",
       "48                     Rua Cantagalo     378   \n",
       "49      Rua Canal do Perpéto Socorro     192   \n",
       "50                      Rua Tarauacá     930   \n",
       "51                    Rodovia DF-489     578   \n",
       "52                  Avenida Pioneira     519   \n",
       "53                      Avenida Mauá     640   \n",
       "54                          Rua Dois     354   \n",
       "55                     Rua do Riacho     316   \n",
       "56                    Rua Otto Keske     388   \n",
       "57                  Vila Três Irmãos     352   \n",
       "58                      Rua Colômbia     355   \n",
       "59   Rua Fernando Francisco de Souza     981   \n",
       "\n",
       "                                   bairro                       cidade estado  \n",
       "0                                   Ibura                       Recife     PE  \n",
       "1                              Jangurussu                    Fortaleza     CE  \n",
       "2                         Riacho Fundo II                     Brasília     DF  \n",
       "3                               Marabaixo                       Macapá     AP  \n",
       "4                                 Central                       Macapá     AP  \n",
       "5                            Santa Helena      Cachoeiro de Itapemirim     ES  \n",
       "6                                  Japiim                       Manaus     AM  \n",
       "7                             Pitanguinha                       Maceió     AL  \n",
       "8                                  Centro                      Itabuna     BA  \n",
       "9                      Parigot de Souza 2                     Londrina     PR  \n",
       "10                                Cohab I                       Sobral     CE  \n",
       "11         Jardim Bispo Pedro Casaldáliga                 Rondonópolis     MT  \n",
       "12                                 Placas                   Rio Branco     AC  \n",
       "13                         Castelo Branco                  João Pessoa     PB  \n",
       "14                                 Centro                      Vitória     ES  \n",
       "15                                 Jacaré                     Cabedelo     PB  \n",
       "16                                 Centro                         Itaú     RN  \n",
       "17                                 Centro              Maripá de Minas     MG  \n",
       "18                   Jardim Santos Dumont                    Paranavaí     PR  \n",
       "19                           Santa Isabel                Várzea Grande     MT  \n",
       "20                                Pacheco                      Palhoça     SC  \n",
       "21                 Maracacuera (Icoaraci)                        Belém     PA  \n",
       "22                           Jóquei Clube                    Boa Vista     RR  \n",
       "23                                 Centro               Campina Grande     PB  \n",
       "24  Setor de Habitações Individuais Norte                     Brasília     DF  \n",
       "25           Zona de Expansão (Mosqueiro)                      Aracaju     SE  \n",
       "26                                 Centro                     Araguari     MG  \n",
       "27                        Ilha dos Bentos                   Vila Velha     ES  \n",
       "28                    Mansões Bittencourt  Santo Antônio do Descoberto     GO  \n",
       "29                              Boa Vista                     Curitiba     PR  \n",
       "30                          Pascoal Ramos                       Cuiabá     MT  \n",
       "31                              Aeroporto                      Aracaju     SE  \n",
       "32                             Bom Retiro                     Londrina     PR  \n",
       "33                        Altos do Indaiá                     Dourados     MS  \n",
       "34                              Conquista                   Rio Branco     AC  \n",
       "35                         Vila Elizabeth                  Campo Largo     PR  \n",
       "36                         Jardim América                    Fortaleza     CE  \n",
       "37                     Zumbi dos Palmares                       Manaus     AM  \n",
       "38                          Jardim Brasil                       Cuiabá     MT  \n",
       "39                                América                      Aracaju     SE  \n",
       "40           Setor Nossa Senhora da Saúde                    Itumbiara     GO  \n",
       "41                                Camaquã                 Porto Alegre     RS  \n",
       "42                 Residencial De Colores                      Birigüi     SP  \n",
       "43                         Jardim do Vale                   Vila Velha     ES  \n",
       "44                      Plano Diretor Sul                       Palmas     TO  \n",
       "45                                Mariana                  Porto Velho     RO  \n",
       "46                             Jangurussu                    Fortaleza     CE  \n",
       "47                               Renascer                     Cabedelo     PB  \n",
       "48                                Potengi                        Natal     RN  \n",
       "49                       Perpétuo Socorro                       Macapá     AP  \n",
       "50                              São Pedro                    Ji-Paraná     RO  \n",
       "51    Núcleo Rural Alagados (Santa Maria)                     Brasília     DF  \n",
       "52                   Jardim das Bandeiras                       Gurupi     TO  \n",
       "53                             Roselândia                  Passo Fundo     RS  \n",
       "54                               São Luís                Volta Redonda     RJ  \n",
       "55                           Santo Inácio            Santa Cruz do Sul     RS  \n",
       "56                                 Rainha                   Rio do Sul     SC  \n",
       "57                               Limoeiro            Juazeiro do Norte     CE  \n",
       "58                            Vila Brasil                     Londrina     PR  \n",
       "59                   Viena (Justinópolis)           Ribeirão das Neves     MG  "
      ]
     },
     "metadata": {},
     "output_type": "display_data"
    }
   ],
   "source": [
    "df = pd.read_csv('dados.csv', sep=';', encoding='latin1')\n",
    "\n",
    "# Padronizando o cep: Retirando o que não é numérico e preenchendo com 0's, se necessário, no início\n",
    "df['cep'] = df['cep'].astype(str)\n",
    "df['cep'] = df['cep'].apply(lambda x: re.sub('[^0-9]', '', x).zfill(8))\n",
    "df['cep'] = df['cep'].apply(lambda x: f'{x[:5]}-{x[-3:]}')\n",
    "\n",
    "display(df)"
   ]
  },
  {
   "cell_type": "markdown",
   "id": "9a5f78f5",
   "metadata": {},
   "source": [
    "### Encontrando latitude e longitude dos dados faltantes"
   ]
  },
  {
   "cell_type": "code",
   "execution_count": 3,
   "id": "d1f2cd24",
   "metadata": {
    "scrolled": true
   },
   "outputs": [
    {
     "data": {
      "text/html": [
       "<div>\n",
       "<style scoped>\n",
       "    .dataframe tbody tr th:only-of-type {\n",
       "        vertical-align: middle;\n",
       "    }\n",
       "\n",
       "    .dataframe tbody tr th {\n",
       "        vertical-align: top;\n",
       "    }\n",
       "\n",
       "    .dataframe thead th {\n",
       "        text-align: right;\n",
       "    }\n",
       "</style>\n",
       "<table border=\"1\" class=\"dataframe\">\n",
       "  <thead>\n",
       "    <tr style=\"text-align: right;\">\n",
       "      <th></th>\n",
       "      <th>nome</th>\n",
       "      <th>idade</th>\n",
       "      <th>data_nasc</th>\n",
       "      <th>sexo</th>\n",
       "      <th>email</th>\n",
       "      <th>cep</th>\n",
       "      <th>rua</th>\n",
       "      <th>numero</th>\n",
       "      <th>bairro</th>\n",
       "      <th>cidade</th>\n",
       "      <th>estado</th>\n",
       "      <th>Latitude</th>\n",
       "      <th>Longitude</th>\n",
       "    </tr>\n",
       "  </thead>\n",
       "  <tbody>\n",
       "    <tr>\n",
       "      <th>0</th>\n",
       "      <td>Alessandra Evelyn Sebastiana Sales</td>\n",
       "      <td>32</td>\n",
       "      <td>07/03/1990</td>\n",
       "      <td>Feminino</td>\n",
       "      <td>alessandraevelynsales@gerdau.com.br</td>\n",
       "      <td>51240-500</td>\n",
       "      <td>Rua Cristino de Castro</td>\n",
       "      <td>735</td>\n",
       "      <td>Ibura</td>\n",
       "      <td>Recife</td>\n",
       "      <td>PE</td>\n",
       "      <td>-8.125227</td>\n",
       "      <td>-34.935829</td>\n",
       "    </tr>\n",
       "    <tr>\n",
       "      <th>1</th>\n",
       "      <td>Alice Regina de Paula</td>\n",
       "      <td>35</td>\n",
       "      <td>14/01/1987</td>\n",
       "      <td>Feminino</td>\n",
       "      <td>alice_regina_depaula@biconsult.com.br</td>\n",
       "      <td>60866-475</td>\n",
       "      <td>Rua 408A</td>\n",
       "      <td>333</td>\n",
       "      <td>Jangurussu</td>\n",
       "      <td>Fortaleza</td>\n",
       "      <td>CE</td>\n",
       "      <td>-3.834515</td>\n",
       "      <td>-38.520160</td>\n",
       "    </tr>\n",
       "    <tr>\n",
       "      <th>2</th>\n",
       "      <td>Amanda Teresinha Stella Monteiro</td>\n",
       "      <td>57</td>\n",
       "      <td>19/06/1965</td>\n",
       "      <td>Feminino</td>\n",
       "      <td>amanda-monteiro76@bat.com</td>\n",
       "      <td>71884-401</td>\n",
       "      <td>Quadra QS 11 Conjunto 1</td>\n",
       "      <td>370</td>\n",
       "      <td>Riacho Fundo II</td>\n",
       "      <td>Brasília</td>\n",
       "      <td>DF</td>\n",
       "      <td>-15.884342</td>\n",
       "      <td>-48.014093</td>\n",
       "    </tr>\n",
       "    <tr>\n",
       "      <th>3</th>\n",
       "      <td>Analu Stella Aragão</td>\n",
       "      <td>66</td>\n",
       "      <td>25/01/1956</td>\n",
       "      <td>Feminino</td>\n",
       "      <td>analustellaaragao@oi15.com.br</td>\n",
       "      <td>68909-853</td>\n",
       "      <td>Avenida Décima Quinta</td>\n",
       "      <td>877</td>\n",
       "      <td>Marabaixo</td>\n",
       "      <td>Macapá</td>\n",
       "      <td>AP</td>\n",
       "      <td>0.044343</td>\n",
       "      <td>-51.126615</td>\n",
       "    </tr>\n",
       "    <tr>\n",
       "      <th>4</th>\n",
       "      <td>Andreia Helena Sophia Lima</td>\n",
       "      <td>26</td>\n",
       "      <td>17/05/1996</td>\n",
       "      <td>Feminino</td>\n",
       "      <td>andreiahelenalima@lbrazil.com.br</td>\n",
       "      <td>68900-760</td>\n",
       "      <td>Passagem Rio Branco</td>\n",
       "      <td>233</td>\n",
       "      <td>Central</td>\n",
       "      <td>Macapá</td>\n",
       "      <td>AP</td>\n",
       "      <td>0.036445</td>\n",
       "      <td>-51.052655</td>\n",
       "    </tr>\n",
       "    <tr>\n",
       "      <th>5</th>\n",
       "      <td>Anthony Miguel Guilherme Viana</td>\n",
       "      <td>38</td>\n",
       "      <td>13/07/1984</td>\n",
       "      <td>Masculino</td>\n",
       "      <td>anthonymiguelviana@kimmay.com.br</td>\n",
       "      <td>29307-001</td>\n",
       "      <td>Escadaria Dois</td>\n",
       "      <td>431</td>\n",
       "      <td>Santa Helena</td>\n",
       "      <td>Cachoeiro de Itapemirim</td>\n",
       "      <td>ES</td>\n",
       "      <td>-20.835962</td>\n",
       "      <td>-41.150424</td>\n",
       "    </tr>\n",
       "    <tr>\n",
       "      <th>6</th>\n",
       "      <td>Aurora Isabella Mirella Galvão</td>\n",
       "      <td>77</td>\n",
       "      <td>14/09/1945</td>\n",
       "      <td>Feminino</td>\n",
       "      <td>aurora_isabella_galvao@capua.com.br</td>\n",
       "      <td>69078-090</td>\n",
       "      <td>Travessa Francisco Duarte</td>\n",
       "      <td>491</td>\n",
       "      <td>Japiim</td>\n",
       "      <td>Manaus</td>\n",
       "      <td>AM</td>\n",
       "      <td>-3.105588</td>\n",
       "      <td>-59.985723</td>\n",
       "    </tr>\n",
       "    <tr>\n",
       "      <th>7</th>\n",
       "      <td>Benício Marcos Vinicius Iago das Neves</td>\n",
       "      <td>59</td>\n",
       "      <td>23/08/1963</td>\n",
       "      <td>Masculino</td>\n",
       "      <td>benicio.marcos.dasneves@mls.com.br</td>\n",
       "      <td>57052-025</td>\n",
       "      <td>Rua Oldemburgo da Silva Paranhos</td>\n",
       "      <td>986</td>\n",
       "      <td>Pitanguinha</td>\n",
       "      <td>Maceió</td>\n",
       "      <td>AL</td>\n",
       "      <td>-9.643128</td>\n",
       "      <td>-35.733937</td>\n",
       "    </tr>\n",
       "    <tr>\n",
       "      <th>8</th>\n",
       "      <td>Benjamin Raul Castro</td>\n",
       "      <td>68</td>\n",
       "      <td>01/10/1954</td>\n",
       "      <td>Masculino</td>\n",
       "      <td>benjamin.raul.castro@igly.com.br</td>\n",
       "      <td>45600-045</td>\n",
       "      <td>Avenida Ilhéus</td>\n",
       "      <td>417</td>\n",
       "      <td>Centro</td>\n",
       "      <td>Itabuna</td>\n",
       "      <td>BA</td>\n",
       "      <td>-14.782600</td>\n",
       "      <td>-39.272490</td>\n",
       "    </tr>\n",
       "    <tr>\n",
       "      <th>9</th>\n",
       "      <td>Bruno Enzo Ian da Rosa</td>\n",
       "      <td>74</td>\n",
       "      <td>20/01/1948</td>\n",
       "      <td>Masculino</td>\n",
       "      <td>bruno.enzo.darosa@sgstelecom.com.br</td>\n",
       "      <td>86082-325</td>\n",
       "      <td>Praça Alexandre Santoro</td>\n",
       "      <td>233</td>\n",
       "      <td>Parigot de Souza 2</td>\n",
       "      <td>Londrina</td>\n",
       "      <td>PR</td>\n",
       "      <td>-23.262813</td>\n",
       "      <td>-51.167616</td>\n",
       "    </tr>\n",
       "    <tr>\n",
       "      <th>10</th>\n",
       "      <td>Caleb Bruno João Nunes</td>\n",
       "      <td>66</td>\n",
       "      <td>19/09/1956</td>\n",
       "      <td>Masculino</td>\n",
       "      <td>calebbrunonunes@fredericodiniz.com</td>\n",
       "      <td>62052-460</td>\n",
       "      <td>Rua João de Maria Linhares</td>\n",
       "      <td>778</td>\n",
       "      <td>Cohab I</td>\n",
       "      <td>Sobral</td>\n",
       "      <td>CE</td>\n",
       "      <td>-3.713307</td>\n",
       "      <td>-40.334192</td>\n",
       "    </tr>\n",
       "    <tr>\n",
       "      <th>11</th>\n",
       "      <td>Carolina Marlene Giovana Ferreira</td>\n",
       "      <td>27</td>\n",
       "      <td>02/01/1995</td>\n",
       "      <td>Feminino</td>\n",
       "      <td>carolina-ferreira97@mailinator.com</td>\n",
       "      <td>78736-098</td>\n",
       "      <td>Rua D</td>\n",
       "      <td>713</td>\n",
       "      <td>Jardim Bispo Pedro Casaldáliga</td>\n",
       "      <td>Rondonópolis</td>\n",
       "      <td>MT</td>\n",
       "      <td>-16.447996</td>\n",
       "      <td>-54.602052</td>\n",
       "    </tr>\n",
       "    <tr>\n",
       "      <th>12</th>\n",
       "      <td>Carolina Vera Teresinha Barbosa</td>\n",
       "      <td>30</td>\n",
       "      <td>27/05/1992</td>\n",
       "      <td>Feminino</td>\n",
       "      <td>carolinaverabarbosa@trbvm.com</td>\n",
       "      <td>69902-772</td>\n",
       "      <td>Rua H</td>\n",
       "      <td>879</td>\n",
       "      <td>Placas</td>\n",
       "      <td>Rio Branco</td>\n",
       "      <td>AC</td>\n",
       "      <td>-9.987330</td>\n",
       "      <td>-67.608574</td>\n",
       "    </tr>\n",
       "    <tr>\n",
       "      <th>13</th>\n",
       "      <td>Catarina Alana Rosa Porto</td>\n",
       "      <td>20</td>\n",
       "      <td>01/10/2002</td>\n",
       "      <td>Feminino</td>\n",
       "      <td>catarinaalanaporto@policiamilitar.sp.gov.br</td>\n",
       "      <td>58050-030</td>\n",
       "      <td>Rua Juiz José Saldanha</td>\n",
       "      <td>601</td>\n",
       "      <td>Castelo Branco</td>\n",
       "      <td>João Pessoa</td>\n",
       "      <td>PB</td>\n",
       "      <td>-7.130430</td>\n",
       "      <td>-34.839725</td>\n",
       "    </tr>\n",
       "    <tr>\n",
       "      <th>14</th>\n",
       "      <td>Cauã Roberto Nunes</td>\n",
       "      <td>39</td>\n",
       "      <td>03/07/1983</td>\n",
       "      <td>Masculino</td>\n",
       "      <td>cauarobertonunes@ornatopresentes.com.br</td>\n",
       "      <td>29016-160</td>\n",
       "      <td>Ladeira Giuseppe Giovanotti</td>\n",
       "      <td>304</td>\n",
       "      <td>Centro</td>\n",
       "      <td>Vitória</td>\n",
       "      <td>ES</td>\n",
       "      <td>-20.315180</td>\n",
       "      <td>-40.338939</td>\n",
       "    </tr>\n",
       "    <tr>\n",
       "      <th>15</th>\n",
       "      <td>Clara Betina Oliveira</td>\n",
       "      <td>52</td>\n",
       "      <td>21/07/1970</td>\n",
       "      <td>Feminino</td>\n",
       "      <td>clara-oliveira86@galpaoestofados.com.br</td>\n",
       "      <td>58105-712</td>\n",
       "      <td>Rua José Maria Alves Pereira</td>\n",
       "      <td>831</td>\n",
       "      <td>Jacaré</td>\n",
       "      <td>Cabedelo</td>\n",
       "      <td>PB</td>\n",
       "      <td>-7.032620</td>\n",
       "      <td>-34.850280</td>\n",
       "    </tr>\n",
       "    <tr>\n",
       "      <th>16</th>\n",
       "      <td>Eduardo Luan Barbosa</td>\n",
       "      <td>49</td>\n",
       "      <td>21/08/1973</td>\n",
       "      <td>Masculino</td>\n",
       "      <td>eduardo_barbosa@yaooh.com</td>\n",
       "      <td>59855-970</td>\n",
       "      <td>Rua Fausto Pinheiro 137</td>\n",
       "      <td>273</td>\n",
       "      <td>Centro</td>\n",
       "      <td>Itaú</td>\n",
       "      <td>RN</td>\n",
       "      <td>-5.843142</td>\n",
       "      <td>-37.989784</td>\n",
       "    </tr>\n",
       "    <tr>\n",
       "      <th>17</th>\n",
       "      <td>Elisa Cláudia Costa</td>\n",
       "      <td>61</td>\n",
       "      <td>08/03/1961</td>\n",
       "      <td>Feminino</td>\n",
       "      <td>elisaclaudiacosta@i9tec.com.br</td>\n",
       "      <td>36608-970</td>\n",
       "      <td>Rua Capitão Avelino Martins 126</td>\n",
       "      <td>530</td>\n",
       "      <td>Centro</td>\n",
       "      <td>Maripá de Minas</td>\n",
       "      <td>MG</td>\n",
       "      <td>-21.697750</td>\n",
       "      <td>-42.960130</td>\n",
       "    </tr>\n",
       "    <tr>\n",
       "      <th>18</th>\n",
       "      <td>Eloá Rita Lavínia Ramos</td>\n",
       "      <td>43</td>\n",
       "      <td>23/07/1979</td>\n",
       "      <td>Feminino</td>\n",
       "      <td>eloa_rita_ramos@albap.com.br</td>\n",
       "      <td>87706-100</td>\n",
       "      <td>Rua Sumaré</td>\n",
       "      <td>290</td>\n",
       "      <td>Jardim Santos Dumont</td>\n",
       "      <td>Paranavaí</td>\n",
       "      <td>PR</td>\n",
       "      <td>-23.081530</td>\n",
       "      <td>-52.443990</td>\n",
       "    </tr>\n",
       "    <tr>\n",
       "      <th>19</th>\n",
       "      <td>Emanuelly Sueli Nascimento</td>\n",
       "      <td>34</td>\n",
       "      <td>05/02/1988</td>\n",
       "      <td>Feminino</td>\n",
       "      <td>emanuelly_nascimento@ciaimoveissjc.com</td>\n",
       "      <td>78150-844</td>\n",
       "      <td>Rua Canarana</td>\n",
       "      <td>376</td>\n",
       "      <td>Santa Isabel</td>\n",
       "      <td>Várzea Grande</td>\n",
       "      <td>MT</td>\n",
       "      <td>-15.640654</td>\n",
       "      <td>-56.059503</td>\n",
       "    </tr>\n",
       "    <tr>\n",
       "      <th>20</th>\n",
       "      <td>Emilly Malu Beatriz Ramos</td>\n",
       "      <td>46</td>\n",
       "      <td>11/02/1976</td>\n",
       "      <td>Feminino</td>\n",
       "      <td>emilly_ramos@lojaprincezinha.com.br</td>\n",
       "      <td>88134-111</td>\n",
       "      <td>Rua Jasmim</td>\n",
       "      <td>271</td>\n",
       "      <td>Pacheco</td>\n",
       "      <td>Palhoça</td>\n",
       "      <td>SC</td>\n",
       "      <td>-27.682791</td>\n",
       "      <td>-48.652640</td>\n",
       "    </tr>\n",
       "    <tr>\n",
       "      <th>21</th>\n",
       "      <td>Erick Caio Rodrigues</td>\n",
       "      <td>32</td>\n",
       "      <td>14/05/1990</td>\n",
       "      <td>Masculino</td>\n",
       "      <td>erick-rodrigues76@compuativa.com.br</td>\n",
       "      <td>66815-067</td>\n",
       "      <td>Passagem Brasilia</td>\n",
       "      <td>137</td>\n",
       "      <td>Maracacuera (Icoaraci)</td>\n",
       "      <td>Belém</td>\n",
       "      <td>PA</td>\n",
       "      <td>-1.305095</td>\n",
       "      <td>-48.461629</td>\n",
       "    </tr>\n",
       "    <tr>\n",
       "      <th>22</th>\n",
       "      <td>Gabrielly Malu Emanuelly Jesus</td>\n",
       "      <td>58</td>\n",
       "      <td>22/01/1964</td>\n",
       "      <td>Feminino</td>\n",
       "      <td>gabrielly.malu.jesus@cathedranet.com.br</td>\n",
       "      <td>69313-018</td>\n",
       "      <td>Rua Paricá</td>\n",
       "      <td>796</td>\n",
       "      <td>Jóquei Clube</td>\n",
       "      <td>Boa Vista</td>\n",
       "      <td>RR</td>\n",
       "      <td>2.838068</td>\n",
       "      <td>-60.725995</td>\n",
       "    </tr>\n",
       "    <tr>\n",
       "      <th>23</th>\n",
       "      <td>Gael Benjamin Lima</td>\n",
       "      <td>19</td>\n",
       "      <td>03/05/2003</td>\n",
       "      <td>Masculino</td>\n",
       "      <td>gael-lima92@eanac.com.br</td>\n",
       "      <td>58400-135</td>\n",
       "      <td>Rua Júlia Barreto de Melo</td>\n",
       "      <td>689</td>\n",
       "      <td>Centro</td>\n",
       "      <td>Campina Grande</td>\n",
       "      <td>PB</td>\n",
       "      <td>-7.215771</td>\n",
       "      <td>-35.883010</td>\n",
       "    </tr>\n",
       "    <tr>\n",
       "      <th>24</th>\n",
       "      <td>Gael Fábio Rodrigo Barros</td>\n",
       "      <td>62</td>\n",
       "      <td>11/02/1960</td>\n",
       "      <td>Masculino</td>\n",
       "      <td>gael-barros78@jovempanfmtaubate.com.br</td>\n",
       "      <td>71536-080</td>\n",
       "      <td>Trecho Trecho 03</td>\n",
       "      <td>282</td>\n",
       "      <td>Setor de Habitações Individuais Norte</td>\n",
       "      <td>Brasília</td>\n",
       "      <td>DF</td>\n",
       "      <td>-15.778290</td>\n",
       "      <td>-47.929090</td>\n",
       "    </tr>\n",
       "    <tr>\n",
       "      <th>25</th>\n",
       "      <td>Heitor Marcelo da Mata</td>\n",
       "      <td>70</td>\n",
       "      <td>15/02/1952</td>\n",
       "      <td>Masculino</td>\n",
       "      <td>heitor_damata@freitasepozzatti.com.br</td>\n",
       "      <td>49008-256</td>\n",
       "      <td>Travessa Matapoã II</td>\n",
       "      <td>521</td>\n",
       "      <td>Zona de Expansão (Mosqueiro)</td>\n",
       "      <td>Aracaju</td>\n",
       "      <td>SE</td>\n",
       "      <td>-11.088185</td>\n",
       "      <td>-37.149644</td>\n",
       "    </tr>\n",
       "    <tr>\n",
       "      <th>26</th>\n",
       "      <td>Heloise Fabiana Almeida</td>\n",
       "      <td>58</td>\n",
       "      <td>17/05/1964</td>\n",
       "      <td>Feminino</td>\n",
       "      <td>heloise_almeida@facebook.com</td>\n",
       "      <td>38444-000</td>\n",
       "      <td>Rua Professora Lourdes Naves</td>\n",
       "      <td>878</td>\n",
       "      <td>Centro</td>\n",
       "      <td>Araguari</td>\n",
       "      <td>MG</td>\n",
       "      <td>-18.640915</td>\n",
       "      <td>-48.191380</td>\n",
       "    </tr>\n",
       "    <tr>\n",
       "      <th>27</th>\n",
       "      <td>Isaac Elias Campos</td>\n",
       "      <td>47</td>\n",
       "      <td>03/10/1975</td>\n",
       "      <td>Masculino</td>\n",
       "      <td>isaaceliascampos@rafaeladson.com</td>\n",
       "      <td>29104-359</td>\n",
       "      <td>Avenida Canal da Costa</td>\n",
       "      <td>304</td>\n",
       "      <td>Ilha dos Bentos</td>\n",
       "      <td>Vila Velha</td>\n",
       "      <td>ES</td>\n",
       "      <td>-20.371849</td>\n",
       "      <td>-40.313538</td>\n",
       "    </tr>\n",
       "    <tr>\n",
       "      <th>28</th>\n",
       "      <td>João Gabriel Novaes</td>\n",
       "      <td>32</td>\n",
       "      <td>02/10/1990</td>\n",
       "      <td>Masculino</td>\n",
       "      <td>joaogabrielnovaes@gruposimoes.com.br</td>\n",
       "      <td>72906-035</td>\n",
       "      <td>Quadra Quadra 8</td>\n",
       "      <td>223</td>\n",
       "      <td>Mansões Bittencourt</td>\n",
       "      <td>Santo Antônio do Descoberto</td>\n",
       "      <td>GO</td>\n",
       "      <td>-15.943070</td>\n",
       "      <td>-48.257120</td>\n",
       "    </tr>\n",
       "    <tr>\n",
       "      <th>29</th>\n",
       "      <td>José Pedro Breno Alves</td>\n",
       "      <td>51</td>\n",
       "      <td>19/02/1971</td>\n",
       "      <td>Masculino</td>\n",
       "      <td>jose_pedro_alves@freitasprior.com.br</td>\n",
       "      <td>82540-340</td>\n",
       "      <td>Rua Djalma Soares</td>\n",
       "      <td>657</td>\n",
       "      <td>Boa Vista</td>\n",
       "      <td>Curitiba</td>\n",
       "      <td>PR</td>\n",
       "      <td>-25.387835</td>\n",
       "      <td>-49.258440</td>\n",
       "    </tr>\n",
       "    <tr>\n",
       "      <th>30</th>\n",
       "      <td>José Raul Luiz da Costa</td>\n",
       "      <td>27</td>\n",
       "      <td>20/03/1995</td>\n",
       "      <td>Masculino</td>\n",
       "      <td>jose_raul_dacosta@uel.br</td>\n",
       "      <td>78098-178</td>\n",
       "      <td>Rua M</td>\n",
       "      <td>939</td>\n",
       "      <td>Pascoal Ramos</td>\n",
       "      <td>Cuiabá</td>\n",
       "      <td>MT</td>\n",
       "      <td>-15.548853</td>\n",
       "      <td>-56.029610</td>\n",
       "    </tr>\n",
       "    <tr>\n",
       "      <th>31</th>\n",
       "      <td>Juliana Jaqueline Melo</td>\n",
       "      <td>36</td>\n",
       "      <td>16/05/1986</td>\n",
       "      <td>Feminino</td>\n",
       "      <td>juliana.jaqueline.melo@diebold.com</td>\n",
       "      <td>49037-719</td>\n",
       "      <td>Rua F</td>\n",
       "      <td>489</td>\n",
       "      <td>Aeroporto</td>\n",
       "      <td>Aracaju</td>\n",
       "      <td>SE</td>\n",
       "      <td>-11.001338</td>\n",
       "      <td>-37.090680</td>\n",
       "    </tr>\n",
       "    <tr>\n",
       "      <th>32</th>\n",
       "      <td>Kauê Victor Thomas da Mota</td>\n",
       "      <td>59</td>\n",
       "      <td>21/06/1963</td>\n",
       "      <td>Masculino</td>\n",
       "      <td>kaue_damota@nokia.com</td>\n",
       "      <td>86025-670</td>\n",
       "      <td>Rua Doutor Vicente Machado</td>\n",
       "      <td>975</td>\n",
       "      <td>Bom Retiro</td>\n",
       "      <td>Londrina</td>\n",
       "      <td>PR</td>\n",
       "      <td>-23.297675</td>\n",
       "      <td>-51.154595</td>\n",
       "    </tr>\n",
       "    <tr>\n",
       "      <th>33</th>\n",
       "      <td>Laís Beatriz Freitas</td>\n",
       "      <td>32</td>\n",
       "      <td>07/08/1990</td>\n",
       "      <td>Feminino</td>\n",
       "      <td>lais.beatriz.freitas@wwlimpador.com.br</td>\n",
       "      <td>79823-610</td>\n",
       "      <td>Rua Eikishi Sakaguti</td>\n",
       "      <td>546</td>\n",
       "      <td>Altos do Indaiá</td>\n",
       "      <td>Dourados</td>\n",
       "      <td>MS</td>\n",
       "      <td>-22.223817</td>\n",
       "      <td>-54.851559</td>\n",
       "    </tr>\n",
       "    <tr>\n",
       "      <th>34</th>\n",
       "      <td>Larissa Fátima Priscila Assis</td>\n",
       "      <td>72</td>\n",
       "      <td>09/02/1950</td>\n",
       "      <td>Feminino</td>\n",
       "      <td>larissa_assis@hotmnail.com</td>\n",
       "      <td>69918-850</td>\n",
       "      <td>Rua Valdomiro Lopes</td>\n",
       "      <td>850</td>\n",
       "      <td>Conquista</td>\n",
       "      <td>Rio Branco</td>\n",
       "      <td>AC</td>\n",
       "      <td>-9.953191</td>\n",
       "      <td>-67.835016</td>\n",
       "    </tr>\n",
       "    <tr>\n",
       "      <th>35</th>\n",
       "      <td>Laura Nicole Novaes</td>\n",
       "      <td>75</td>\n",
       "      <td>14/03/1947</td>\n",
       "      <td>Feminino</td>\n",
       "      <td>laura-novaes83@dcazzainteriores.com.br</td>\n",
       "      <td>83607-210</td>\n",
       "      <td>Rua Zeferino Marchiorato</td>\n",
       "      <td>972</td>\n",
       "      <td>Vila Elizabeth</td>\n",
       "      <td>Campo Largo</td>\n",
       "      <td>PR</td>\n",
       "      <td>-25.454151</td>\n",
       "      <td>-49.509685</td>\n",
       "    </tr>\n",
       "    <tr>\n",
       "      <th>36</th>\n",
       "      <td>Leonardo Nelson Davi Pereira</td>\n",
       "      <td>45</td>\n",
       "      <td>13/02/1977</td>\n",
       "      <td>Masculino</td>\n",
       "      <td>leonardo_pereira@grupoarteoficio.com.br</td>\n",
       "      <td>60410-420</td>\n",
       "      <td>Travessa São Luís</td>\n",
       "      <td>966</td>\n",
       "      <td>Jardim América</td>\n",
       "      <td>Fortaleza</td>\n",
       "      <td>CE</td>\n",
       "      <td>-3.750695</td>\n",
       "      <td>-38.537290</td>\n",
       "    </tr>\n",
       "    <tr>\n",
       "      <th>37</th>\n",
       "      <td>Lorenzo Henrique Aparício</td>\n",
       "      <td>40</td>\n",
       "      <td>27/04/1982</td>\n",
       "      <td>Masculino</td>\n",
       "      <td>lorenzo-aparicio73@indaiamidias.com.br</td>\n",
       "      <td>69084-222</td>\n",
       "      <td>Rua dos Lagos</td>\n",
       "      <td>952</td>\n",
       "      <td>Zumbi dos Palmares</td>\n",
       "      <td>Manaus</td>\n",
       "      <td>AM</td>\n",
       "      <td>-3.077780</td>\n",
       "      <td>-59.945953</td>\n",
       "    </tr>\n",
       "    <tr>\n",
       "      <th>38</th>\n",
       "      <td>Lucca Caleb Marcos Vinicius Rocha</td>\n",
       "      <td>35</td>\n",
       "      <td>09/06/1987</td>\n",
       "      <td>Masculino</td>\n",
       "      <td>luccacalebrocha@belaggiovini.com.br</td>\n",
       "      <td>78052-504</td>\n",
       "      <td>Rua Dezesseis</td>\n",
       "      <td>688</td>\n",
       "      <td>Jardim Brasil</td>\n",
       "      <td>Cuiabá</td>\n",
       "      <td>MT</td>\n",
       "      <td>-15.605290</td>\n",
       "      <td>-55.996065</td>\n",
       "    </tr>\n",
       "    <tr>\n",
       "      <th>39</th>\n",
       "      <td>Marcelo Fernando Jesus</td>\n",
       "      <td>49</td>\n",
       "      <td>19/07/1973</td>\n",
       "      <td>Masculino</td>\n",
       "      <td>marcelo-jesus74@torah.com.br</td>\n",
       "      <td>49080-220</td>\n",
       "      <td>Avenida Estados Unidos</td>\n",
       "      <td>139</td>\n",
       "      <td>América</td>\n",
       "      <td>Aracaju</td>\n",
       "      <td>SE</td>\n",
       "      <td>-10.917270</td>\n",
       "      <td>-37.081030</td>\n",
       "    </tr>\n",
       "    <tr>\n",
       "      <th>40</th>\n",
       "      <td>Márcio Bento Matheus Mendes</td>\n",
       "      <td>29</td>\n",
       "      <td>14/03/1993</td>\n",
       "      <td>Masculino</td>\n",
       "      <td>marcio-mendes89@montcalm.com.br</td>\n",
       "      <td>75520-180</td>\n",
       "      <td>Rua Lupicínio de Araújo</td>\n",
       "      <td>261</td>\n",
       "      <td>Setor Nossa Senhora da Saúde</td>\n",
       "      <td>Itumbiara</td>\n",
       "      <td>GO</td>\n",
       "      <td>-18.399643</td>\n",
       "      <td>-49.197856</td>\n",
       "    </tr>\n",
       "    <tr>\n",
       "      <th>41</th>\n",
       "      <td>Marina Carolina Stella Melo</td>\n",
       "      <td>61</td>\n",
       "      <td>15/08/1961</td>\n",
       "      <td>Feminino</td>\n",
       "      <td>marina.carolina.melo@pq.cnpq.br</td>\n",
       "      <td>91910-700</td>\n",
       "      <td>Rua Emílio Baldino</td>\n",
       "      <td>530</td>\n",
       "      <td>Camaquã</td>\n",
       "      <td>Porto Alegre</td>\n",
       "      <td>RS</td>\n",
       "      <td>-30.098675</td>\n",
       "      <td>-51.241340</td>\n",
       "    </tr>\n",
       "    <tr>\n",
       "      <th>42</th>\n",
       "      <td>Mirella Natália Pietra Fernandes</td>\n",
       "      <td>44</td>\n",
       "      <td>27/08/1978</td>\n",
       "      <td>Feminino</td>\n",
       "      <td>mirella.natalia.fernandes@ligananet.com.br</td>\n",
       "      <td>16206-110</td>\n",
       "      <td>Alameda dos Topázios</td>\n",
       "      <td>264</td>\n",
       "      <td>Residencial De Colores</td>\n",
       "      <td>Birigüi</td>\n",
       "      <td>SP</td>\n",
       "      <td>-21.286285</td>\n",
       "      <td>-50.371761</td>\n",
       "    </tr>\n",
       "    <tr>\n",
       "      <th>43</th>\n",
       "      <td>Nicolas Giovanni Baptista</td>\n",
       "      <td>79</td>\n",
       "      <td>02/08/1943</td>\n",
       "      <td>Masculino</td>\n",
       "      <td>nicolasgiovannibaptista@saa.com.br</td>\n",
       "      <td>29113-754</td>\n",
       "      <td>Rua Lucilândia</td>\n",
       "      <td>806</td>\n",
       "      <td>Jardim do Vale</td>\n",
       "      <td>Vila Velha</td>\n",
       "      <td>ES</td>\n",
       "      <td>-20.373099</td>\n",
       "      <td>-40.346441</td>\n",
       "    </tr>\n",
       "    <tr>\n",
       "      <th>44</th>\n",
       "      <td>Otávio Tomás Osvaldo Santos</td>\n",
       "      <td>46</td>\n",
       "      <td>18/05/1976</td>\n",
       "      <td>Masculino</td>\n",
       "      <td>otavio_santos@reval.net</td>\n",
       "      <td>77018-409</td>\n",
       "      <td>Quadra 1003 Sul Alameda 23</td>\n",
       "      <td>838</td>\n",
       "      <td>Plano Diretor Sul</td>\n",
       "      <td>Palmas</td>\n",
       "      <td>TO</td>\n",
       "      <td>-10.246773</td>\n",
       "      <td>-48.337397</td>\n",
       "    </tr>\n",
       "    <tr>\n",
       "      <th>45</th>\n",
       "      <td>Raimunda Alana Aparício</td>\n",
       "      <td>33</td>\n",
       "      <td>24/06/1989</td>\n",
       "      <td>Feminino</td>\n",
       "      <td>raimunda_alana_aparicio@mavex.com.br</td>\n",
       "      <td>76813-534</td>\n",
       "      <td>Rua Anchieta</td>\n",
       "      <td>889</td>\n",
       "      <td>Mariana</td>\n",
       "      <td>Porto Velho</td>\n",
       "      <td>RO</td>\n",
       "      <td>-8.770971</td>\n",
       "      <td>-63.823994</td>\n",
       "    </tr>\n",
       "    <tr>\n",
       "      <th>46</th>\n",
       "      <td>Raquel Agatha dos Santos</td>\n",
       "      <td>56</td>\n",
       "      <td>19/02/1966</td>\n",
       "      <td>Feminino</td>\n",
       "      <td>raquel_dossantos@original-veiculos.com.br</td>\n",
       "      <td>60877-230</td>\n",
       "      <td>Rua F</td>\n",
       "      <td>341</td>\n",
       "      <td>Jangurussu</td>\n",
       "      <td>Fortaleza</td>\n",
       "      <td>CE</td>\n",
       "      <td>-3.834611</td>\n",
       "      <td>-38.590629</td>\n",
       "    </tr>\n",
       "    <tr>\n",
       "      <th>47</th>\n",
       "      <td>Ricardo Benjamin Carvalho</td>\n",
       "      <td>40</td>\n",
       "      <td>01/10/1982</td>\n",
       "      <td>Masculino</td>\n",
       "      <td>ricardobenjamincarvalho@bbcreative.org</td>\n",
       "      <td>58108-012</td>\n",
       "      <td>Rodovia BR-230</td>\n",
       "      <td>262</td>\n",
       "      <td>Renascer</td>\n",
       "      <td>Cabedelo</td>\n",
       "      <td>PB</td>\n",
       "      <td>-7.070570</td>\n",
       "      <td>-34.849959</td>\n",
       "    </tr>\n",
       "    <tr>\n",
       "      <th>48</th>\n",
       "      <td>Roberto Pietro Aragão</td>\n",
       "      <td>27</td>\n",
       "      <td>27/03/1995</td>\n",
       "      <td>Masculino</td>\n",
       "      <td>roberto_aragao@tjrj.jus.br</td>\n",
       "      <td>59110-170</td>\n",
       "      <td>Rua Cantagalo</td>\n",
       "      <td>378</td>\n",
       "      <td>Potengi</td>\n",
       "      <td>Natal</td>\n",
       "      <td>RN</td>\n",
       "      <td>-5.759707</td>\n",
       "      <td>-35.254533</td>\n",
       "    </tr>\n",
       "    <tr>\n",
       "      <th>49</th>\n",
       "      <td>Rodrigo Bryan José Monteiro</td>\n",
       "      <td>37</td>\n",
       "      <td>08/03/1985</td>\n",
       "      <td>Masculino</td>\n",
       "      <td>rodrigo_bryan_monteiro@usa.com</td>\n",
       "      <td>68905-514</td>\n",
       "      <td>Rua Canal do Perpéto Socorro</td>\n",
       "      <td>192</td>\n",
       "      <td>Perpétuo Socorro</td>\n",
       "      <td>Macapá</td>\n",
       "      <td>AP</td>\n",
       "      <td>0.054250</td>\n",
       "      <td>-51.043675</td>\n",
       "    </tr>\n",
       "    <tr>\n",
       "      <th>50</th>\n",
       "      <td>Sabrina Vera Emanuelly Porto</td>\n",
       "      <td>27</td>\n",
       "      <td>21/08/1995</td>\n",
       "      <td>Feminino</td>\n",
       "      <td>sabrina_porto@guiamaritimo.com.br</td>\n",
       "      <td>76913-569</td>\n",
       "      <td>Rua Tarauacá</td>\n",
       "      <td>930</td>\n",
       "      <td>São Pedro</td>\n",
       "      <td>Ji-Paraná</td>\n",
       "      <td>RO</td>\n",
       "      <td>-10.900296</td>\n",
       "      <td>-61.930733</td>\n",
       "    </tr>\n",
       "    <tr>\n",
       "      <th>51</th>\n",
       "      <td>Sarah Nina da Luz</td>\n",
       "      <td>79</td>\n",
       "      <td>25/08/1943</td>\n",
       "      <td>Feminino</td>\n",
       "      <td>sarah-daluz77@molsanto.com</td>\n",
       "      <td>72551-400</td>\n",
       "      <td>Rodovia DF-489</td>\n",
       "      <td>578</td>\n",
       "      <td>Núcleo Rural Alagados (Santa Maria)</td>\n",
       "      <td>Brasília</td>\n",
       "      <td>DF</td>\n",
       "      <td>-15.778290</td>\n",
       "      <td>-47.929090</td>\n",
       "    </tr>\n",
       "    <tr>\n",
       "      <th>52</th>\n",
       "      <td>Sebastião Diogo Martins</td>\n",
       "      <td>51</td>\n",
       "      <td>17/04/1971</td>\n",
       "      <td>Masculino</td>\n",
       "      <td>sebastiao_diogo_martins@cafefrossard.com</td>\n",
       "      <td>77420-010</td>\n",
       "      <td>Avenida Pioneira</td>\n",
       "      <td>519</td>\n",
       "      <td>Jardim das Bandeiras</td>\n",
       "      <td>Gurupi</td>\n",
       "      <td>TO</td>\n",
       "      <td>-11.748590</td>\n",
       "      <td>-49.091246</td>\n",
       "    </tr>\n",
       "    <tr>\n",
       "      <th>53</th>\n",
       "      <td>Sebastião Yuri Oliver Farias</td>\n",
       "      <td>61</td>\n",
       "      <td>26/01/1961</td>\n",
       "      <td>Masculino</td>\n",
       "      <td>sebastiao-farias96@vetech.vet.br</td>\n",
       "      <td>99066-010</td>\n",
       "      <td>Avenida Mauá</td>\n",
       "      <td>640</td>\n",
       "      <td>Roselândia</td>\n",
       "      <td>Passo Fundo</td>\n",
       "      <td>RS</td>\n",
       "      <td>-28.303883</td>\n",
       "      <td>-52.394179</td>\n",
       "    </tr>\n",
       "    <tr>\n",
       "      <th>54</th>\n",
       "      <td>Silvana Lara Corte Real</td>\n",
       "      <td>50</td>\n",
       "      <td>08/07/1972</td>\n",
       "      <td>Feminino</td>\n",
       "      <td>silvana_lara_cortereal@dafitex.com.br</td>\n",
       "      <td>27286-349</td>\n",
       "      <td>Rua Dois</td>\n",
       "      <td>354</td>\n",
       "      <td>São Luís</td>\n",
       "      <td>Volta Redonda</td>\n",
       "      <td>RJ</td>\n",
       "      <td>-22.492633</td>\n",
       "      <td>-44.119050</td>\n",
       "    </tr>\n",
       "    <tr>\n",
       "      <th>55</th>\n",
       "      <td>Silvana Luana Pires</td>\n",
       "      <td>66</td>\n",
       "      <td>23/02/1956</td>\n",
       "      <td>Feminino</td>\n",
       "      <td>silvana-pires97@zipmail.com</td>\n",
       "      <td>96820-860</td>\n",
       "      <td>Rua do Riacho</td>\n",
       "      <td>316</td>\n",
       "      <td>Santo Inácio</td>\n",
       "      <td>Santa Cruz do Sul</td>\n",
       "      <td>RS</td>\n",
       "      <td>-29.695725</td>\n",
       "      <td>-52.424205</td>\n",
       "    </tr>\n",
       "    <tr>\n",
       "      <th>56</th>\n",
       "      <td>Simone Kamilly Bárbara da Cunha</td>\n",
       "      <td>65</td>\n",
       "      <td>13/03/1957</td>\n",
       "      <td>Feminino</td>\n",
       "      <td>simone-dacunha72@sandvik.com</td>\n",
       "      <td>89162-129</td>\n",
       "      <td>Rua Otto Keske</td>\n",
       "      <td>388</td>\n",
       "      <td>Rainha</td>\n",
       "      <td>Rio do Sul</td>\n",
       "      <td>SC</td>\n",
       "      <td>-27.172702</td>\n",
       "      <td>-49.586941</td>\n",
       "    </tr>\n",
       "    <tr>\n",
       "      <th>57</th>\n",
       "      <td>Stefany Rosa das Neves</td>\n",
       "      <td>62</td>\n",
       "      <td>06/01/1960</td>\n",
       "      <td>Feminino</td>\n",
       "      <td>stefany_dasneves@prlme.com.br</td>\n",
       "      <td>63030-007</td>\n",
       "      <td>Vila Três Irmãos</td>\n",
       "      <td>352</td>\n",
       "      <td>Limoeiro</td>\n",
       "      <td>Juazeiro do Norte</td>\n",
       "      <td>CE</td>\n",
       "      <td>-7.230792</td>\n",
       "      <td>-39.292664</td>\n",
       "    </tr>\n",
       "    <tr>\n",
       "      <th>58</th>\n",
       "      <td>Thiago Guilherme da Cruz</td>\n",
       "      <td>49</td>\n",
       "      <td>19/09/1973</td>\n",
       "      <td>Masculino</td>\n",
       "      <td>thiago.guilherme.dacruz@doucedoce.com.br</td>\n",
       "      <td>86010-720</td>\n",
       "      <td>Rua Colômbia</td>\n",
       "      <td>355</td>\n",
       "      <td>Vila Brasil</td>\n",
       "      <td>Londrina</td>\n",
       "      <td>PR</td>\n",
       "      <td>-23.325890</td>\n",
       "      <td>-51.151570</td>\n",
       "    </tr>\n",
       "    <tr>\n",
       "      <th>59</th>\n",
       "      <td>Vitória Liz Isabelly Alves</td>\n",
       "      <td>22</td>\n",
       "      <td>05/02/2000</td>\n",
       "      <td>Feminino</td>\n",
       "      <td>vitoria.liz.alves@revati.com.br</td>\n",
       "      <td>33944-260</td>\n",
       "      <td>Rua Fernando Francisco de Souza</td>\n",
       "      <td>981</td>\n",
       "      <td>Viena (Justinópolis)</td>\n",
       "      <td>Ribeirão das Neves</td>\n",
       "      <td>MG</td>\n",
       "      <td>-19.815039</td>\n",
       "      <td>-44.028790</td>\n",
       "    </tr>\n",
       "  </tbody>\n",
       "</table>\n",
       "</div>"
      ],
      "text/plain": [
       "                                      nome  idade   data_nasc       sexo  \\\n",
       "0       Alessandra Evelyn Sebastiana Sales     32  07/03/1990   Feminino   \n",
       "1                    Alice Regina de Paula     35  14/01/1987   Feminino   \n",
       "2         Amanda Teresinha Stella Monteiro     57  19/06/1965   Feminino   \n",
       "3                      Analu Stella Aragão     66  25/01/1956   Feminino   \n",
       "4               Andreia Helena Sophia Lima     26  17/05/1996   Feminino   \n",
       "5           Anthony Miguel Guilherme Viana     38  13/07/1984  Masculino   \n",
       "6           Aurora Isabella Mirella Galvão     77  14/09/1945   Feminino   \n",
       "7   Benício Marcos Vinicius Iago das Neves     59  23/08/1963  Masculino   \n",
       "8                     Benjamin Raul Castro     68  01/10/1954  Masculino   \n",
       "9                   Bruno Enzo Ian da Rosa     74  20/01/1948  Masculino   \n",
       "10                  Caleb Bruno João Nunes     66  19/09/1956  Masculino   \n",
       "11       Carolina Marlene Giovana Ferreira     27  02/01/1995   Feminino   \n",
       "12         Carolina Vera Teresinha Barbosa     30  27/05/1992   Feminino   \n",
       "13               Catarina Alana Rosa Porto     20  01/10/2002   Feminino   \n",
       "14                      Cauã Roberto Nunes     39  03/07/1983  Masculino   \n",
       "15                   Clara Betina Oliveira     52  21/07/1970   Feminino   \n",
       "16                    Eduardo Luan Barbosa     49  21/08/1973  Masculino   \n",
       "17                     Elisa Cláudia Costa     61  08/03/1961   Feminino   \n",
       "18                 Eloá Rita Lavínia Ramos     43  23/07/1979   Feminino   \n",
       "19              Emanuelly Sueli Nascimento     34  05/02/1988   Feminino   \n",
       "20               Emilly Malu Beatriz Ramos     46  11/02/1976   Feminino   \n",
       "21                    Erick Caio Rodrigues     32  14/05/1990  Masculino   \n",
       "22          Gabrielly Malu Emanuelly Jesus     58  22/01/1964   Feminino   \n",
       "23                      Gael Benjamin Lima     19  03/05/2003  Masculino   \n",
       "24               Gael Fábio Rodrigo Barros     62  11/02/1960  Masculino   \n",
       "25                  Heitor Marcelo da Mata     70  15/02/1952  Masculino   \n",
       "26                 Heloise Fabiana Almeida     58  17/05/1964   Feminino   \n",
       "27                      Isaac Elias Campos     47  03/10/1975  Masculino   \n",
       "28                     João Gabriel Novaes     32  02/10/1990  Masculino   \n",
       "29                  José Pedro Breno Alves     51  19/02/1971  Masculino   \n",
       "30                 José Raul Luiz da Costa     27  20/03/1995  Masculino   \n",
       "31                  Juliana Jaqueline Melo     36  16/05/1986   Feminino   \n",
       "32              Kauê Victor Thomas da Mota     59  21/06/1963  Masculino   \n",
       "33                    Laís Beatriz Freitas     32  07/08/1990   Feminino   \n",
       "34           Larissa Fátima Priscila Assis     72  09/02/1950   Feminino   \n",
       "35                     Laura Nicole Novaes     75  14/03/1947   Feminino   \n",
       "36            Leonardo Nelson Davi Pereira     45  13/02/1977  Masculino   \n",
       "37               Lorenzo Henrique Aparício     40  27/04/1982  Masculino   \n",
       "38       Lucca Caleb Marcos Vinicius Rocha     35  09/06/1987  Masculino   \n",
       "39                  Marcelo Fernando Jesus     49  19/07/1973  Masculino   \n",
       "40             Márcio Bento Matheus Mendes     29  14/03/1993  Masculino   \n",
       "41             Marina Carolina Stella Melo     61  15/08/1961   Feminino   \n",
       "42        Mirella Natália Pietra Fernandes     44  27/08/1978   Feminino   \n",
       "43               Nicolas Giovanni Baptista     79  02/08/1943  Masculino   \n",
       "44             Otávio Tomás Osvaldo Santos     46  18/05/1976  Masculino   \n",
       "45                 Raimunda Alana Aparício     33  24/06/1989   Feminino   \n",
       "46                Raquel Agatha dos Santos     56  19/02/1966   Feminino   \n",
       "47               Ricardo Benjamin Carvalho     40  01/10/1982  Masculino   \n",
       "48                   Roberto Pietro Aragão     27  27/03/1995  Masculino   \n",
       "49             Rodrigo Bryan José Monteiro     37  08/03/1985  Masculino   \n",
       "50            Sabrina Vera Emanuelly Porto     27  21/08/1995   Feminino   \n",
       "51                       Sarah Nina da Luz     79  25/08/1943   Feminino   \n",
       "52                 Sebastião Diogo Martins     51  17/04/1971  Masculino   \n",
       "53            Sebastião Yuri Oliver Farias     61  26/01/1961  Masculino   \n",
       "54                 Silvana Lara Corte Real     50  08/07/1972   Feminino   \n",
       "55                     Silvana Luana Pires     66  23/02/1956   Feminino   \n",
       "56         Simone Kamilly Bárbara da Cunha     65  13/03/1957   Feminino   \n",
       "57                  Stefany Rosa das Neves     62  06/01/1960   Feminino   \n",
       "58                Thiago Guilherme da Cruz     49  19/09/1973  Masculino   \n",
       "59              Vitória Liz Isabelly Alves     22  05/02/2000   Feminino   \n",
       "\n",
       "                                          email        cep  \\\n",
       "0           alessandraevelynsales@gerdau.com.br  51240-500   \n",
       "1         alice_regina_depaula@biconsult.com.br  60866-475   \n",
       "2                     amanda-monteiro76@bat.com  71884-401   \n",
       "3                 analustellaaragao@oi15.com.br  68909-853   \n",
       "4              andreiahelenalima@lbrazil.com.br  68900-760   \n",
       "5              anthonymiguelviana@kimmay.com.br  29307-001   \n",
       "6           aurora_isabella_galvao@capua.com.br  69078-090   \n",
       "7            benicio.marcos.dasneves@mls.com.br  57052-025   \n",
       "8              benjamin.raul.castro@igly.com.br  45600-045   \n",
       "9           bruno.enzo.darosa@sgstelecom.com.br  86082-325   \n",
       "10           calebbrunonunes@fredericodiniz.com  62052-460   \n",
       "11           carolina-ferreira97@mailinator.com  78736-098   \n",
       "12                carolinaverabarbosa@trbvm.com  69902-772   \n",
       "13  catarinaalanaporto@policiamilitar.sp.gov.br  58050-030   \n",
       "14      cauarobertonunes@ornatopresentes.com.br  29016-160   \n",
       "15      clara-oliveira86@galpaoestofados.com.br  58105-712   \n",
       "16                    eduardo_barbosa@yaooh.com  59855-970   \n",
       "17               elisaclaudiacosta@i9tec.com.br  36608-970   \n",
       "18                 eloa_rita_ramos@albap.com.br  87706-100   \n",
       "19       emanuelly_nascimento@ciaimoveissjc.com  78150-844   \n",
       "20          emilly_ramos@lojaprincezinha.com.br  88134-111   \n",
       "21          erick-rodrigues76@compuativa.com.br  66815-067   \n",
       "22      gabrielly.malu.jesus@cathedranet.com.br  69313-018   \n",
       "23                     gael-lima92@eanac.com.br  58400-135   \n",
       "24       gael-barros78@jovempanfmtaubate.com.br  71536-080   \n",
       "25        heitor_damata@freitasepozzatti.com.br  49008-256   \n",
       "26                 heloise_almeida@facebook.com  38444-000   \n",
       "27             isaaceliascampos@rafaeladson.com  29104-359   \n",
       "28         joaogabrielnovaes@gruposimoes.com.br  72906-035   \n",
       "29         jose_pedro_alves@freitasprior.com.br  82540-340   \n",
       "30                     jose_raul_dacosta@uel.br  78098-178   \n",
       "31           juliana.jaqueline.melo@diebold.com  49037-719   \n",
       "32                        kaue_damota@nokia.com  86025-670   \n",
       "33       lais.beatriz.freitas@wwlimpador.com.br  79823-610   \n",
       "34                   larissa_assis@hotmnail.com  69918-850   \n",
       "35       laura-novaes83@dcazzainteriores.com.br  83607-210   \n",
       "36      leonardo_pereira@grupoarteoficio.com.br  60410-420   \n",
       "37       lorenzo-aparicio73@indaiamidias.com.br  69084-222   \n",
       "38          luccacalebrocha@belaggiovini.com.br  78052-504   \n",
       "39                 marcelo-jesus74@torah.com.br  49080-220   \n",
       "40              marcio-mendes89@montcalm.com.br  75520-180   \n",
       "41              marina.carolina.melo@pq.cnpq.br  91910-700   \n",
       "42   mirella.natalia.fernandes@ligananet.com.br  16206-110   \n",
       "43           nicolasgiovannibaptista@saa.com.br  29113-754   \n",
       "44                      otavio_santos@reval.net  77018-409   \n",
       "45         raimunda_alana_aparicio@mavex.com.br  76813-534   \n",
       "46    raquel_dossantos@original-veiculos.com.br  60877-230   \n",
       "47       ricardobenjamincarvalho@bbcreative.org  58108-012   \n",
       "48                   roberto_aragao@tjrj.jus.br  59110-170   \n",
       "49               rodrigo_bryan_monteiro@usa.com  68905-514   \n",
       "50            sabrina_porto@guiamaritimo.com.br  76913-569   \n",
       "51                   sarah-daluz77@molsanto.com  72551-400   \n",
       "52     sebastiao_diogo_martins@cafefrossard.com  77420-010   \n",
       "53             sebastiao-farias96@vetech.vet.br  99066-010   \n",
       "54        silvana_lara_cortereal@dafitex.com.br  27286-349   \n",
       "55                  silvana-pires97@zipmail.com  96820-860   \n",
       "56                 simone-dacunha72@sandvik.com  89162-129   \n",
       "57                stefany_dasneves@prlme.com.br  63030-007   \n",
       "58     thiago.guilherme.dacruz@doucedoce.com.br  86010-720   \n",
       "59              vitoria.liz.alves@revati.com.br  33944-260   \n",
       "\n",
       "                                 rua numero  \\\n",
       "0             Rua Cristino de Castro    735   \n",
       "1                           Rua 408A    333   \n",
       "2            Quadra QS 11 Conjunto 1    370   \n",
       "3              Avenida Décima Quinta    877   \n",
       "4                Passagem Rio Branco    233   \n",
       "5                     Escadaria Dois    431   \n",
       "6          Travessa Francisco Duarte    491   \n",
       "7   Rua Oldemburgo da Silva Paranhos    986   \n",
       "8                     Avenida Ilhéus    417   \n",
       "9            Praça Alexandre Santoro    233   \n",
       "10        Rua João de Maria Linhares    778   \n",
       "11                             Rua D    713   \n",
       "12                             Rua H    879   \n",
       "13            Rua Juiz José Saldanha    601   \n",
       "14       Ladeira Giuseppe Giovanotti    304   \n",
       "15      Rua José Maria Alves Pereira    831   \n",
       "16           Rua Fausto Pinheiro 137    273   \n",
       "17   Rua Capitão Avelino Martins 126    530   \n",
       "18                        Rua Sumaré    290   \n",
       "19                      Rua Canarana    376   \n",
       "20                        Rua Jasmim    271   \n",
       "21                 Passagem Brasilia    137   \n",
       "22                        Rua Paricá    796   \n",
       "23         Rua Júlia Barreto de Melo    689   \n",
       "24                  Trecho Trecho 03    282   \n",
       "25               Travessa Matapoã II    521   \n",
       "26      Rua Professora Lourdes Naves    878   \n",
       "27            Avenida Canal da Costa    304   \n",
       "28                   Quadra Quadra 8    223   \n",
       "29                 Rua Djalma Soares    657   \n",
       "30                             Rua M    939   \n",
       "31                             Rua F    489   \n",
       "32        Rua Doutor Vicente Machado    975   \n",
       "33              Rua Eikishi Sakaguti    546   \n",
       "34               Rua Valdomiro Lopes    850   \n",
       "35          Rua Zeferino Marchiorato    972   \n",
       "36                 Travessa São Luís    966   \n",
       "37                     Rua dos Lagos    952   \n",
       "38                     Rua Dezesseis    688   \n",
       "39            Avenida Estados Unidos    139   \n",
       "40           Rua Lupicínio de Araújo    261   \n",
       "41                Rua Emílio Baldino    530   \n",
       "42              Alameda dos Topázios    264   \n",
       "43                    Rua Lucilândia    806   \n",
       "44        Quadra 1003 Sul Alameda 23    838   \n",
       "45                      Rua Anchieta    889   \n",
       "46                             Rua F    341   \n",
       "47                    Rodovia BR-230    262   \n",
       "48                     Rua Cantagalo    378   \n",
       "49      Rua Canal do Perpéto Socorro    192   \n",
       "50                      Rua Tarauacá    930   \n",
       "51                    Rodovia DF-489    578   \n",
       "52                  Avenida Pioneira    519   \n",
       "53                      Avenida Mauá    640   \n",
       "54                          Rua Dois    354   \n",
       "55                     Rua do Riacho    316   \n",
       "56                    Rua Otto Keske    388   \n",
       "57                  Vila Três Irmãos    352   \n",
       "58                      Rua Colômbia    355   \n",
       "59   Rua Fernando Francisco de Souza    981   \n",
       "\n",
       "                                   bairro                       cidade estado  \\\n",
       "0                                   Ibura                       Recife     PE   \n",
       "1                              Jangurussu                    Fortaleza     CE   \n",
       "2                         Riacho Fundo II                     Brasília     DF   \n",
       "3                               Marabaixo                       Macapá     AP   \n",
       "4                                 Central                       Macapá     AP   \n",
       "5                            Santa Helena      Cachoeiro de Itapemirim     ES   \n",
       "6                                  Japiim                       Manaus     AM   \n",
       "7                             Pitanguinha                       Maceió     AL   \n",
       "8                                  Centro                      Itabuna     BA   \n",
       "9                      Parigot de Souza 2                     Londrina     PR   \n",
       "10                                Cohab I                       Sobral     CE   \n",
       "11         Jardim Bispo Pedro Casaldáliga                 Rondonópolis     MT   \n",
       "12                                 Placas                   Rio Branco     AC   \n",
       "13                         Castelo Branco                  João Pessoa     PB   \n",
       "14                                 Centro                      Vitória     ES   \n",
       "15                                 Jacaré                     Cabedelo     PB   \n",
       "16                                 Centro                         Itaú     RN   \n",
       "17                                 Centro              Maripá de Minas     MG   \n",
       "18                   Jardim Santos Dumont                    Paranavaí     PR   \n",
       "19                           Santa Isabel                Várzea Grande     MT   \n",
       "20                                Pacheco                      Palhoça     SC   \n",
       "21                 Maracacuera (Icoaraci)                        Belém     PA   \n",
       "22                           Jóquei Clube                    Boa Vista     RR   \n",
       "23                                 Centro               Campina Grande     PB   \n",
       "24  Setor de Habitações Individuais Norte                     Brasília     DF   \n",
       "25           Zona de Expansão (Mosqueiro)                      Aracaju     SE   \n",
       "26                                 Centro                     Araguari     MG   \n",
       "27                        Ilha dos Bentos                   Vila Velha     ES   \n",
       "28                    Mansões Bittencourt  Santo Antônio do Descoberto     GO   \n",
       "29                              Boa Vista                     Curitiba     PR   \n",
       "30                          Pascoal Ramos                       Cuiabá     MT   \n",
       "31                              Aeroporto                      Aracaju     SE   \n",
       "32                             Bom Retiro                     Londrina     PR   \n",
       "33                        Altos do Indaiá                     Dourados     MS   \n",
       "34                              Conquista                   Rio Branco     AC   \n",
       "35                         Vila Elizabeth                  Campo Largo     PR   \n",
       "36                         Jardim América                    Fortaleza     CE   \n",
       "37                     Zumbi dos Palmares                       Manaus     AM   \n",
       "38                          Jardim Brasil                       Cuiabá     MT   \n",
       "39                                América                      Aracaju     SE   \n",
       "40           Setor Nossa Senhora da Saúde                    Itumbiara     GO   \n",
       "41                                Camaquã                 Porto Alegre     RS   \n",
       "42                 Residencial De Colores                      Birigüi     SP   \n",
       "43                         Jardim do Vale                   Vila Velha     ES   \n",
       "44                      Plano Diretor Sul                       Palmas     TO   \n",
       "45                                Mariana                  Porto Velho     RO   \n",
       "46                             Jangurussu                    Fortaleza     CE   \n",
       "47                               Renascer                     Cabedelo     PB   \n",
       "48                                Potengi                        Natal     RN   \n",
       "49                       Perpétuo Socorro                       Macapá     AP   \n",
       "50                              São Pedro                    Ji-Paraná     RO   \n",
       "51    Núcleo Rural Alagados (Santa Maria)                     Brasília     DF   \n",
       "52                   Jardim das Bandeiras                       Gurupi     TO   \n",
       "53                             Roselândia                  Passo Fundo     RS   \n",
       "54                               São Luís                Volta Redonda     RJ   \n",
       "55                           Santo Inácio            Santa Cruz do Sul     RS   \n",
       "56                                 Rainha                   Rio do Sul     SC   \n",
       "57                               Limoeiro            Juazeiro do Norte     CE   \n",
       "58                            Vila Brasil                     Londrina     PR   \n",
       "59                   Viena (Justinópolis)           Ribeirão das Neves     MG   \n",
       "\n",
       "     Latitude  Longitude  \n",
       "0   -8.125227 -34.935829  \n",
       "1   -3.834515 -38.520160  \n",
       "2  -15.884342 -48.014093  \n",
       "3    0.044343 -51.126615  \n",
       "4    0.036445 -51.052655  \n",
       "5  -20.835962 -41.150424  \n",
       "6   -3.105588 -59.985723  \n",
       "7   -9.643128 -35.733937  \n",
       "8  -14.782600 -39.272490  \n",
       "9  -23.262813 -51.167616  \n",
       "10  -3.713307 -40.334192  \n",
       "11 -16.447996 -54.602052  \n",
       "12  -9.987330 -67.608574  \n",
       "13  -7.130430 -34.839725  \n",
       "14 -20.315180 -40.338939  \n",
       "15  -7.032620 -34.850280  \n",
       "16  -5.843142 -37.989784  \n",
       "17 -21.697750 -42.960130  \n",
       "18 -23.081530 -52.443990  \n",
       "19 -15.640654 -56.059503  \n",
       "20 -27.682791 -48.652640  \n",
       "21  -1.305095 -48.461629  \n",
       "22   2.838068 -60.725995  \n",
       "23  -7.215771 -35.883010  \n",
       "24 -15.778290 -47.929090  \n",
       "25 -11.088185 -37.149644  \n",
       "26 -18.640915 -48.191380  \n",
       "27 -20.371849 -40.313538  \n",
       "28 -15.943070 -48.257120  \n",
       "29 -25.387835 -49.258440  \n",
       "30 -15.548853 -56.029610  \n",
       "31 -11.001338 -37.090680  \n",
       "32 -23.297675 -51.154595  \n",
       "33 -22.223817 -54.851559  \n",
       "34  -9.953191 -67.835016  \n",
       "35 -25.454151 -49.509685  \n",
       "36  -3.750695 -38.537290  \n",
       "37  -3.077780 -59.945953  \n",
       "38 -15.605290 -55.996065  \n",
       "39 -10.917270 -37.081030  \n",
       "40 -18.399643 -49.197856  \n",
       "41 -30.098675 -51.241340  \n",
       "42 -21.286285 -50.371761  \n",
       "43 -20.373099 -40.346441  \n",
       "44 -10.246773 -48.337397  \n",
       "45  -8.770971 -63.823994  \n",
       "46  -3.834611 -38.590629  \n",
       "47  -7.070570 -34.849959  \n",
       "48  -5.759707 -35.254533  \n",
       "49   0.054250 -51.043675  \n",
       "50 -10.900296 -61.930733  \n",
       "51 -15.778290 -47.929090  \n",
       "52 -11.748590 -49.091246  \n",
       "53 -28.303883 -52.394179  \n",
       "54 -22.492633 -44.119050  \n",
       "55 -29.695725 -52.424205  \n",
       "56 -27.172702 -49.586941  \n",
       "57  -7.230792 -39.292664  \n",
       "58 -23.325890 -51.151570  \n",
       "59 -19.815039 -44.028790  "
      ]
     },
     "metadata": {},
     "output_type": "display_data"
    }
   ],
   "source": [
    "t1 = time.time()\n",
    "\n",
    "latitudes = []\n",
    "longitudes = []\n",
    "\n",
    "df['numero'] = df['numero'].astype(str)\n",
    "df['Endereco'] = df['rua'] + ' n° ' + df['numero'] + ', ' + df['cep'] + ', ' + df['cidade'] + ', ' + df['estado']\n",
    "\n",
    "nom = ArcGIS()\n",
    "\n",
    "for item in df.itertuples():\n",
    "    coordenada = nom.geocode(item.Endereco)\n",
    "    try:\n",
    "        lat = coordenada.latitude\n",
    "        lon = coordenada.longitude\n",
    "        latitudes.append(lat)\n",
    "        longitudes.append(lon)\n",
    "    except:\n",
    "        latitudes.append('Erro')\n",
    "        longitudes.append('Erro')\n",
    "\n",
    "    \n",
    "df['Latitude'] = latitudes\n",
    "df['Longitude'] = longitudes\n",
    "\n",
    "df.drop('Endereco', axis=1, inplace=True)\n",
    "\n",
    "display(df)\n",
    "\n",
    "t2 = time.time()"
   ]
  },
  {
   "cell_type": "markdown",
   "id": "9a45c9b8",
   "metadata": {},
   "source": [
    "### Calculando tempo de execução"
   ]
  },
  {
   "cell_type": "code",
   "execution_count": 13,
   "id": "b8187b21",
   "metadata": {},
   "outputs": [
    {
     "name": "stdout",
     "output_type": "stream",
     "text": [
      "Tempo de execução: 0:00:38\n"
     ]
    }
   ],
   "source": [
    "td = timedelta(seconds=np.round(t2-t1,0))\n",
    "print(f'Tempo de execução: {td}')"
   ]
  },
  {
   "cell_type": "markdown",
   "id": "bbc4723f",
   "metadata": {},
   "source": [
    "### Verificações de possíveis erros"
   ]
  },
  {
   "cell_type": "code",
   "execution_count": 15,
   "id": "4e887659",
   "metadata": {},
   "outputs": [
    {
     "data": {
      "text/html": [
       "<div>\n",
       "<style scoped>\n",
       "    .dataframe tbody tr th:only-of-type {\n",
       "        vertical-align: middle;\n",
       "    }\n",
       "\n",
       "    .dataframe tbody tr th {\n",
       "        vertical-align: top;\n",
       "    }\n",
       "\n",
       "    .dataframe thead th {\n",
       "        text-align: right;\n",
       "    }\n",
       "</style>\n",
       "<table border=\"1\" class=\"dataframe\">\n",
       "  <thead>\n",
       "    <tr style=\"text-align: right;\">\n",
       "      <th></th>\n",
       "      <th>nome</th>\n",
       "      <th>idade</th>\n",
       "      <th>data_nasc</th>\n",
       "      <th>sexo</th>\n",
       "      <th>email</th>\n",
       "      <th>cep</th>\n",
       "      <th>rua</th>\n",
       "      <th>numero</th>\n",
       "      <th>bairro</th>\n",
       "      <th>cidade</th>\n",
       "      <th>estado</th>\n",
       "      <th>Latitude</th>\n",
       "      <th>Longitude</th>\n",
       "    </tr>\n",
       "  </thead>\n",
       "  <tbody>\n",
       "  </tbody>\n",
       "</table>\n",
       "</div>"
      ],
      "text/plain": [
       "Empty DataFrame\n",
       "Columns: [nome, idade, data_nasc, sexo, email, cep, rua, numero, bairro, cidade, estado, Latitude, Longitude]\n",
       "Index: []"
      ]
     },
     "execution_count": 15,
     "metadata": {},
     "output_type": "execute_result"
    }
   ],
   "source": [
    "df.loc[df['Latitude']=='Erro']"
   ]
  },
  {
   "cell_type": "markdown",
   "id": "b67ebe56",
   "metadata": {},
   "source": [
    "### Plotando o Mapa"
   ]
  },
  {
   "cell_type": "code",
   "execution_count": 19,
   "id": "f2adb75a",
   "metadata": {},
   "outputs": [
    {
     "data": {
      "application/vnd.plotly.v1+json": {
       "config": {
        "plotlyServerURL": "https://plot.ly"
       },
       "data": [
        {
         "geo": "geo",
         "hovertemplate": "<b>%{hovertext}</b><br><br>estado=PE<br>Latitude=%{lat}<br>Longitude=%{lon}<extra></extra>",
         "hovertext": [
          "Alessandra Evelyn Sebastiana Sales"
         ],
         "lat": [
          -8.125227103212072
         ],
         "legendgroup": "PE",
         "lon": [
          -34.93582917508908
         ],
         "marker": {
          "color": "#636efa",
          "symbol": "circle"
         },
         "mode": "markers",
         "name": "PE",
         "showlegend": true,
         "type": "scattergeo"
        },
        {
         "geo": "geo",
         "hovertemplate": "<b>%{hovertext}</b><br><br>estado=CE<br>Latitude=%{lat}<br>Longitude=%{lon}<extra></extra>",
         "hovertext": [
          "Alice Regina de Paula",
          "Caleb Bruno João Nunes",
          "Leonardo Nelson Davi Pereira",
          "Raquel Agatha dos Santos",
          "Stefany Rosa das Neves"
         ],
         "lat": [
          -3.834514801869019,
          -3.713306738882004,
          -3.750694994232937,
          -3.8346114371699604,
          -7.230792366644738
         ],
         "legendgroup": "CE",
         "lon": [
          -38.52016022396743,
          -40.334192245100255,
          -38.53729002575264,
          -38.59062913620477,
          -39.29266401476398
         ],
         "marker": {
          "color": "#EF553B",
          "symbol": "circle"
         },
         "mode": "markers",
         "name": "CE",
         "showlegend": true,
         "type": "scattergeo"
        },
        {
         "geo": "geo",
         "hovertemplate": "<b>%{hovertext}</b><br><br>estado=DF<br>Latitude=%{lat}<br>Longitude=%{lon}<extra></extra>",
         "hovertext": [
          "Amanda Teresinha Stella Monteiro",
          "Gael Fábio Rodrigo Barros",
          "Sarah Nina da Luz"
         ],
         "lat": [
          -15.884342276977128,
          -15.77828999999997,
          -15.77828999999997
         ],
         "legendgroup": "DF",
         "lon": [
          -48.01409275813897,
          -47.929089999999974,
          -47.929089999999974
         ],
         "marker": {
          "color": "#00cc96",
          "symbol": "circle"
         },
         "mode": "markers",
         "name": "DF",
         "showlegend": true,
         "type": "scattergeo"
        },
        {
         "geo": "geo",
         "hovertemplate": "<b>%{hovertext}</b><br><br>estado=AP<br>Latitude=%{lat}<br>Longitude=%{lon}<extra></extra>",
         "hovertext": [
          "Analu Stella Aragão",
          "Andreia Helena Sophia Lima",
          "Rodrigo Bryan José Monteiro"
         ],
         "lat": [
          0.04434273777917235,
          0.036445017921018064,
          0.054250000000024556
         ],
         "legendgroup": "AP",
         "lon": [
          -51.126614806134285,
          -51.05265499141656,
          -51.04367499999995
         ],
         "marker": {
          "color": "#ab63fa",
          "symbol": "circle"
         },
         "mode": "markers",
         "name": "AP",
         "showlegend": true,
         "type": "scattergeo"
        },
        {
         "geo": "geo",
         "hovertemplate": "<b>%{hovertext}</b><br><br>estado=ES<br>Latitude=%{lat}<br>Longitude=%{lon}<extra></extra>",
         "hovertext": [
          "Anthony Miguel Guilherme Viana",
          "Cauã Roberto Nunes",
          "Isaac Elias Campos",
          "Nicolas Giovanni Baptista"
         ],
         "lat": [
          -20.83596223391896,
          -20.31518000192716,
          -20.371849142825454,
          -20.37309920821262
         ],
         "legendgroup": "ES",
         "lon": [
          -41.15042449666723,
          -40.33893940493467,
          -40.31353833779801,
          -40.34644071727835
         ],
         "marker": {
          "color": "#FFA15A",
          "symbol": "circle"
         },
         "mode": "markers",
         "name": "ES",
         "showlegend": true,
         "type": "scattergeo"
        },
        {
         "geo": "geo",
         "hovertemplate": "<b>%{hovertext}</b><br><br>estado=AM<br>Latitude=%{lat}<br>Longitude=%{lon}<extra></extra>",
         "hovertext": [
          "Aurora Isabella Mirella Galvão",
          "Lorenzo Henrique Aparício"
         ],
         "lat": [
          -3.1055878208312966,
          -3.0777804999999603
         ],
         "legendgroup": "AM",
         "lon": [
          -59.9857225382442,
          -59.94595337199996
         ],
         "marker": {
          "color": "#19d3f3",
          "symbol": "circle"
         },
         "mode": "markers",
         "name": "AM",
         "showlegend": true,
         "type": "scattergeo"
        },
        {
         "geo": "geo",
         "hovertemplate": "<b>%{hovertext}</b><br><br>estado=AL<br>Latitude=%{lat}<br>Longitude=%{lon}<extra></extra>",
         "hovertext": [
          "Benício Marcos Vinicius Iago das Neves"
         ],
         "lat": [
          -9.643127782474153
         ],
         "legendgroup": "AL",
         "lon": [
          -35.73393669950706
         ],
         "marker": {
          "color": "#FF6692",
          "symbol": "circle"
         },
         "mode": "markers",
         "name": "AL",
         "showlegend": true,
         "type": "scattergeo"
        },
        {
         "geo": "geo",
         "hovertemplate": "<b>%{hovertext}</b><br><br>estado=BA<br>Latitude=%{lat}<br>Longitude=%{lon}<extra></extra>",
         "hovertext": [
          "Benjamin Raul Castro"
         ],
         "lat": [
          -14.782599995277167
         ],
         "legendgroup": "BA",
         "lon": [
          -39.27249001305199
         ],
         "marker": {
          "color": "#B6E880",
          "symbol": "circle"
         },
         "mode": "markers",
         "name": "BA",
         "showlegend": true,
         "type": "scattergeo"
        },
        {
         "geo": "geo",
         "hovertemplate": "<b>%{hovertext}</b><br><br>estado=PR<br>Latitude=%{lat}<br>Longitude=%{lon}<extra></extra>",
         "hovertext": [
          "Bruno Enzo Ian da Rosa",
          "Eloá Rita Lavínia Ramos",
          "José Pedro Breno Alves",
          "Kauê Victor Thomas da Mota",
          "Laura Nicole Novaes",
          "Thiago Guilherme da Cruz"
         ],
         "lat": [
          -23.26281275977383,
          -23.08152999872413,
          -25.38783500687584,
          -23.297674525164016,
          -25.45415086540192,
          -23.32589001084021
         ],
         "legendgroup": "PR",
         "lon": [
          -51.167615568920326,
          -52.443990024013445,
          -49.25844001083563,
          -51.154594588658355,
          -49.5096853270998,
          -51.15157004033753
         ],
         "marker": {
          "color": "#FF97FF",
          "symbol": "circle"
         },
         "mode": "markers",
         "name": "PR",
         "showlegend": true,
         "type": "scattergeo"
        },
        {
         "geo": "geo",
         "hovertemplate": "<b>%{hovertext}</b><br><br>estado=MT<br>Latitude=%{lat}<br>Longitude=%{lon}<extra></extra>",
         "hovertext": [
          "Carolina Marlene Giovana Ferreira",
          "Emanuelly Sueli Nascimento",
          "José Raul Luiz da Costa",
          "Lucca Caleb Marcos Vinicius Rocha"
         ],
         "lat": [
          -16.447995940818235,
          -15.640654046231951,
          -15.548852745139055,
          -15.605289994555193
         ],
         "legendgroup": "MT",
         "lon": [
          -54.602052355666615,
          -56.059503467928536,
          -56.02960991207258,
          -55.99606498889442
         ],
         "marker": {
          "color": "#FECB52",
          "symbol": "circle"
         },
         "mode": "markers",
         "name": "MT",
         "showlegend": true,
         "type": "scattergeo"
        },
        {
         "geo": "geo",
         "hovertemplate": "<b>%{hovertext}</b><br><br>estado=AC<br>Latitude=%{lat}<br>Longitude=%{lon}<extra></extra>",
         "hovertext": [
          "Carolina Vera Teresinha Barbosa",
          "Larissa Fátima Priscila Assis"
         ],
         "lat": [
          -9.987329601999932,
          -9.953191435616882
         ],
         "legendgroup": "AC",
         "lon": [
          -67.60857441599995,
          -67.83501618071166
         ],
         "marker": {
          "color": "#636efa",
          "symbol": "circle"
         },
         "mode": "markers",
         "name": "AC",
         "showlegend": true,
         "type": "scattergeo"
        },
        {
         "geo": "geo",
         "hovertemplate": "<b>%{hovertext}</b><br><br>estado=PB<br>Latitude=%{lat}<br>Longitude=%{lon}<extra></extra>",
         "hovertext": [
          "Catarina Alana Rosa Porto",
          "Clara Betina Oliveira",
          "Gael Benjamin Lima",
          "Ricardo Benjamin Carvalho"
         ],
         "lat": [
          -7.130430139989181,
          -7.032620004393451,
          -7.215771347302095,
          -7.070570410060939
         ],
         "legendgroup": "PB",
         "lon": [
          -34.8397245176044,
          -34.85027999843018,
          -35.88300985755365,
          -34.84995869167525
         ],
         "marker": {
          "color": "#EF553B",
          "symbol": "circle"
         },
         "mode": "markers",
         "name": "PB",
         "showlegend": true,
         "type": "scattergeo"
        },
        {
         "geo": "geo",
         "hovertemplate": "<b>%{hovertext}</b><br><br>estado=RN<br>Latitude=%{lat}<br>Longitude=%{lon}<extra></extra>",
         "hovertext": [
          "Eduardo Luan Barbosa",
          "Roberto Pietro Aragão"
         ],
         "lat": [
          -5.843142020172635,
          -5.7597073339389455
         ],
         "legendgroup": "RN",
         "lon": [
          -37.98978419391094,
          -35.254532877235626
         ],
         "marker": {
          "color": "#00cc96",
          "symbol": "circle"
         },
         "mode": "markers",
         "name": "RN",
         "showlegend": true,
         "type": "scattergeo"
        },
        {
         "geo": "geo",
         "hovertemplate": "<b>%{hovertext}</b><br><br>estado=MG<br>Latitude=%{lat}<br>Longitude=%{lon}<extra></extra>",
         "hovertext": [
          "Elisa Cláudia Costa",
          "Heloise Fabiana Almeida",
          "Vitória Liz Isabelly Alves"
         ],
         "lat": [
          -21.697749994554442,
          -18.64091500072691,
          -19.81503865828085
         ],
         "legendgroup": "MG",
         "lon": [
          -42.960130024217136,
          -48.191380029085536,
          -44.02879045243739
         ],
         "marker": {
          "color": "#ab63fa",
          "symbol": "circle"
         },
         "mode": "markers",
         "name": "MG",
         "showlegend": true,
         "type": "scattergeo"
        },
        {
         "geo": "geo",
         "hovertemplate": "<b>%{hovertext}</b><br><br>estado=SC<br>Latitude=%{lat}<br>Longitude=%{lon}<extra></extra>",
         "hovertext": [
          "Emilly Malu Beatriz Ramos",
          "Simone Kamilly Bárbara da Cunha"
         ],
         "lat": [
          -27.682791295999948,
          -27.17270156716355
         ],
         "legendgroup": "SC",
         "lon": [
          -48.65263999899997,
          -49.58694148453333
         ],
         "marker": {
          "color": "#FFA15A",
          "symbol": "circle"
         },
         "mode": "markers",
         "name": "SC",
         "showlegend": true,
         "type": "scattergeo"
        },
        {
         "geo": "geo",
         "hovertemplate": "<b>%{hovertext}</b><br><br>estado=PA<br>Latitude=%{lat}<br>Longitude=%{lon}<extra></extra>",
         "hovertext": [
          "Erick Caio Rodrigues"
         ],
         "lat": [
          -1.3050945814826436
         ],
         "legendgroup": "PA",
         "lon": [
          -48.46162933652399
         ],
         "marker": {
          "color": "#19d3f3",
          "symbol": "circle"
         },
         "mode": "markers",
         "name": "PA",
         "showlegend": true,
         "type": "scattergeo"
        },
        {
         "geo": "geo",
         "hovertemplate": "<b>%{hovertext}</b><br><br>estado=RR<br>Latitude=%{lat}<br>Longitude=%{lon}<extra></extra>",
         "hovertext": [
          "Gabrielly Malu Emanuelly Jesus"
         ],
         "lat": [
          2.8380679610000357
         ],
         "legendgroup": "RR",
         "lon": [
          -60.725994999999955
         ],
         "marker": {
          "color": "#FF6692",
          "symbol": "circle"
         },
         "mode": "markers",
         "name": "RR",
         "showlegend": true,
         "type": "scattergeo"
        },
        {
         "geo": "geo",
         "hovertemplate": "<b>%{hovertext}</b><br><br>estado=SE<br>Latitude=%{lat}<br>Longitude=%{lon}<extra></extra>",
         "hovertext": [
          "Heitor Marcelo da Mata",
          "Juliana Jaqueline Melo",
          "Marcelo Fernando Jesus"
         ],
         "lat": [
          -11.088185063453402,
          -11.001338155298631,
          -10.917270007039079
         ],
         "legendgroup": "SE",
         "lon": [
          -37.14964437352638,
          -37.090680362532,
          -37.081030028444275
         ],
         "marker": {
          "color": "#B6E880",
          "symbol": "circle"
         },
         "mode": "markers",
         "name": "SE",
         "showlegend": true,
         "type": "scattergeo"
        },
        {
         "geo": "geo",
         "hovertemplate": "<b>%{hovertext}</b><br><br>estado=GO<br>Latitude=%{lat}<br>Longitude=%{lon}<extra></extra>",
         "hovertext": [
          "João Gabriel Novaes",
          "Márcio Bento Matheus Mendes"
         ],
         "lat": [
          -15.943069999999977,
          -18.399642599029985
         ],
         "legendgroup": "GO",
         "lon": [
          -48.257119999999986,
          -49.19785608547262
         ],
         "marker": {
          "color": "#FF97FF",
          "symbol": "circle"
         },
         "mode": "markers",
         "name": "GO",
         "showlegend": true,
         "type": "scattergeo"
        },
        {
         "geo": "geo",
         "hovertemplate": "<b>%{hovertext}</b><br><br>estado=MS<br>Latitude=%{lat}<br>Longitude=%{lon}<extra></extra>",
         "hovertext": [
          "Laís Beatriz Freitas"
         ],
         "lat": [
          -22.22381658901514
         ],
         "legendgroup": "MS",
         "lon": [
          -54.851558854265015
         ],
         "marker": {
          "color": "#FECB52",
          "symbol": "circle"
         },
         "mode": "markers",
         "name": "MS",
         "showlegend": true,
         "type": "scattergeo"
        },
        {
         "geo": "geo",
         "hovertemplate": "<b>%{hovertext}</b><br><br>estado=RS<br>Latitude=%{lat}<br>Longitude=%{lon}<extra></extra>",
         "hovertext": [
          "Marina Carolina Stella Melo",
          "Sebastião Yuri Oliver Farias",
          "Silvana Luana Pires"
         ],
         "lat": [
          -30.098674998198952,
          -28.303882645818025,
          -29.69572499845909
         ],
         "legendgroup": "RS",
         "lon": [
          -51.24134001379896,
          -52.394179240056985,
          -52.42420500257248
         ],
         "marker": {
          "color": "#636efa",
          "symbol": "circle"
         },
         "mode": "markers",
         "name": "RS",
         "showlegend": true,
         "type": "scattergeo"
        },
        {
         "geo": "geo",
         "hovertemplate": "<b>%{hovertext}</b><br><br>estado=SP<br>Latitude=%{lat}<br>Longitude=%{lon}<extra></extra>",
         "hovertext": [
          "Mirella Natália Pietra Fernandes"
         ],
         "lat": [
          -21.28628465662153
         ],
         "legendgroup": "SP",
         "lon": [
          -50.371761418463564
         ],
         "marker": {
          "color": "#EF553B",
          "symbol": "circle"
         },
         "mode": "markers",
         "name": "SP",
         "showlegend": true,
         "type": "scattergeo"
        },
        {
         "geo": "geo",
         "hovertemplate": "<b>%{hovertext}</b><br><br>estado=TO<br>Latitude=%{lat}<br>Longitude=%{lon}<extra></extra>",
         "hovertext": [
          "Otávio Tomás Osvaldo Santos",
          "Sebastião Diogo Martins"
         ],
         "lat": [
          -10.24677294099386,
          -11.748590477896357
         ],
         "legendgroup": "TO",
         "lon": [
          -48.33739705462993,
          -49.09124573114013
         ],
         "marker": {
          "color": "#00cc96",
          "symbol": "circle"
         },
         "mode": "markers",
         "name": "TO",
         "showlegend": true,
         "type": "scattergeo"
        },
        {
         "geo": "geo",
         "hovertemplate": "<b>%{hovertext}</b><br><br>estado=RO<br>Latitude=%{lat}<br>Longitude=%{lon}<extra></extra>",
         "hovertext": [
          "Raimunda Alana Aparício",
          "Sabrina Vera Emanuelly Porto"
         ],
         "lat": [
          -8.770971084861179,
          -10.90029633916999
         ],
         "legendgroup": "RO",
         "lon": [
          -63.82399423215341,
          -61.93073330137051
         ],
         "marker": {
          "color": "#ab63fa",
          "symbol": "circle"
         },
         "mode": "markers",
         "name": "RO",
         "showlegend": true,
         "type": "scattergeo"
        },
        {
         "geo": "geo",
         "hovertemplate": "<b>%{hovertext}</b><br><br>estado=RJ<br>Latitude=%{lat}<br>Longitude=%{lon}<extra></extra>",
         "hovertext": [
          "Silvana Lara Corte Real"
         ],
         "lat": [
          -22.49263299986758
         ],
         "legendgroup": "RJ",
         "lon": [
          -44.11905026281649
         ],
         "marker": {
          "color": "#FFA15A",
          "symbol": "circle"
         },
         "mode": "markers",
         "name": "RJ",
         "showlegend": true,
         "type": "scattergeo"
        }
       ],
       "layout": {
        "geo": {
         "center": {},
         "domain": {
          "x": [
           0,
           1
          ],
          "y": [
           0,
           1
          ]
         }
        },
        "legend": {
         "title": {
          "text": "estado"
         },
         "tracegroupgap": 0
        },
        "margin": {
         "t": 60
        },
        "template": {
         "data": {
          "bar": [
           {
            "error_x": {
             "color": "#2a3f5f"
            },
            "error_y": {
             "color": "#2a3f5f"
            },
            "marker": {
             "line": {
              "color": "#E5ECF6",
              "width": 0.5
             },
             "pattern": {
              "fillmode": "overlay",
              "size": 10,
              "solidity": 0.2
             }
            },
            "type": "bar"
           }
          ],
          "barpolar": [
           {
            "marker": {
             "line": {
              "color": "#E5ECF6",
              "width": 0.5
             },
             "pattern": {
              "fillmode": "overlay",
              "size": 10,
              "solidity": 0.2
             }
            },
            "type": "barpolar"
           }
          ],
          "carpet": [
           {
            "aaxis": {
             "endlinecolor": "#2a3f5f",
             "gridcolor": "white",
             "linecolor": "white",
             "minorgridcolor": "white",
             "startlinecolor": "#2a3f5f"
            },
            "baxis": {
             "endlinecolor": "#2a3f5f",
             "gridcolor": "white",
             "linecolor": "white",
             "minorgridcolor": "white",
             "startlinecolor": "#2a3f5f"
            },
            "type": "carpet"
           }
          ],
          "choropleth": [
           {
            "colorbar": {
             "outlinewidth": 0,
             "ticks": ""
            },
            "type": "choropleth"
           }
          ],
          "contour": [
           {
            "colorbar": {
             "outlinewidth": 0,
             "ticks": ""
            },
            "colorscale": [
             [
              0,
              "#0d0887"
             ],
             [
              0.1111111111111111,
              "#46039f"
             ],
             [
              0.2222222222222222,
              "#7201a8"
             ],
             [
              0.3333333333333333,
              "#9c179e"
             ],
             [
              0.4444444444444444,
              "#bd3786"
             ],
             [
              0.5555555555555556,
              "#d8576b"
             ],
             [
              0.6666666666666666,
              "#ed7953"
             ],
             [
              0.7777777777777778,
              "#fb9f3a"
             ],
             [
              0.8888888888888888,
              "#fdca26"
             ],
             [
              1,
              "#f0f921"
             ]
            ],
            "type": "contour"
           }
          ],
          "contourcarpet": [
           {
            "colorbar": {
             "outlinewidth": 0,
             "ticks": ""
            },
            "type": "contourcarpet"
           }
          ],
          "heatmap": [
           {
            "colorbar": {
             "outlinewidth": 0,
             "ticks": ""
            },
            "colorscale": [
             [
              0,
              "#0d0887"
             ],
             [
              0.1111111111111111,
              "#46039f"
             ],
             [
              0.2222222222222222,
              "#7201a8"
             ],
             [
              0.3333333333333333,
              "#9c179e"
             ],
             [
              0.4444444444444444,
              "#bd3786"
             ],
             [
              0.5555555555555556,
              "#d8576b"
             ],
             [
              0.6666666666666666,
              "#ed7953"
             ],
             [
              0.7777777777777778,
              "#fb9f3a"
             ],
             [
              0.8888888888888888,
              "#fdca26"
             ],
             [
              1,
              "#f0f921"
             ]
            ],
            "type": "heatmap"
           }
          ],
          "heatmapgl": [
           {
            "colorbar": {
             "outlinewidth": 0,
             "ticks": ""
            },
            "colorscale": [
             [
              0,
              "#0d0887"
             ],
             [
              0.1111111111111111,
              "#46039f"
             ],
             [
              0.2222222222222222,
              "#7201a8"
             ],
             [
              0.3333333333333333,
              "#9c179e"
             ],
             [
              0.4444444444444444,
              "#bd3786"
             ],
             [
              0.5555555555555556,
              "#d8576b"
             ],
             [
              0.6666666666666666,
              "#ed7953"
             ],
             [
              0.7777777777777778,
              "#fb9f3a"
             ],
             [
              0.8888888888888888,
              "#fdca26"
             ],
             [
              1,
              "#f0f921"
             ]
            ],
            "type": "heatmapgl"
           }
          ],
          "histogram": [
           {
            "marker": {
             "pattern": {
              "fillmode": "overlay",
              "size": 10,
              "solidity": 0.2
             }
            },
            "type": "histogram"
           }
          ],
          "histogram2d": [
           {
            "colorbar": {
             "outlinewidth": 0,
             "ticks": ""
            },
            "colorscale": [
             [
              0,
              "#0d0887"
             ],
             [
              0.1111111111111111,
              "#46039f"
             ],
             [
              0.2222222222222222,
              "#7201a8"
             ],
             [
              0.3333333333333333,
              "#9c179e"
             ],
             [
              0.4444444444444444,
              "#bd3786"
             ],
             [
              0.5555555555555556,
              "#d8576b"
             ],
             [
              0.6666666666666666,
              "#ed7953"
             ],
             [
              0.7777777777777778,
              "#fb9f3a"
             ],
             [
              0.8888888888888888,
              "#fdca26"
             ],
             [
              1,
              "#f0f921"
             ]
            ],
            "type": "histogram2d"
           }
          ],
          "histogram2dcontour": [
           {
            "colorbar": {
             "outlinewidth": 0,
             "ticks": ""
            },
            "colorscale": [
             [
              0,
              "#0d0887"
             ],
             [
              0.1111111111111111,
              "#46039f"
             ],
             [
              0.2222222222222222,
              "#7201a8"
             ],
             [
              0.3333333333333333,
              "#9c179e"
             ],
             [
              0.4444444444444444,
              "#bd3786"
             ],
             [
              0.5555555555555556,
              "#d8576b"
             ],
             [
              0.6666666666666666,
              "#ed7953"
             ],
             [
              0.7777777777777778,
              "#fb9f3a"
             ],
             [
              0.8888888888888888,
              "#fdca26"
             ],
             [
              1,
              "#f0f921"
             ]
            ],
            "type": "histogram2dcontour"
           }
          ],
          "mesh3d": [
           {
            "colorbar": {
             "outlinewidth": 0,
             "ticks": ""
            },
            "type": "mesh3d"
           }
          ],
          "parcoords": [
           {
            "line": {
             "colorbar": {
              "outlinewidth": 0,
              "ticks": ""
             }
            },
            "type": "parcoords"
           }
          ],
          "pie": [
           {
            "automargin": true,
            "type": "pie"
           }
          ],
          "scatter": [
           {
            "fillpattern": {
             "fillmode": "overlay",
             "size": 10,
             "solidity": 0.2
            },
            "type": "scatter"
           }
          ],
          "scatter3d": [
           {
            "line": {
             "colorbar": {
              "outlinewidth": 0,
              "ticks": ""
             }
            },
            "marker": {
             "colorbar": {
              "outlinewidth": 0,
              "ticks": ""
             }
            },
            "type": "scatter3d"
           }
          ],
          "scattercarpet": [
           {
            "marker": {
             "colorbar": {
              "outlinewidth": 0,
              "ticks": ""
             }
            },
            "type": "scattercarpet"
           }
          ],
          "scattergeo": [
           {
            "marker": {
             "colorbar": {
              "outlinewidth": 0,
              "ticks": ""
             }
            },
            "type": "scattergeo"
           }
          ],
          "scattergl": [
           {
            "marker": {
             "colorbar": {
              "outlinewidth": 0,
              "ticks": ""
             }
            },
            "type": "scattergl"
           }
          ],
          "scattermapbox": [
           {
            "marker": {
             "colorbar": {
              "outlinewidth": 0,
              "ticks": ""
             }
            },
            "type": "scattermapbox"
           }
          ],
          "scatterpolar": [
           {
            "marker": {
             "colorbar": {
              "outlinewidth": 0,
              "ticks": ""
             }
            },
            "type": "scatterpolar"
           }
          ],
          "scatterpolargl": [
           {
            "marker": {
             "colorbar": {
              "outlinewidth": 0,
              "ticks": ""
             }
            },
            "type": "scatterpolargl"
           }
          ],
          "scatterternary": [
           {
            "marker": {
             "colorbar": {
              "outlinewidth": 0,
              "ticks": ""
             }
            },
            "type": "scatterternary"
           }
          ],
          "surface": [
           {
            "colorbar": {
             "outlinewidth": 0,
             "ticks": ""
            },
            "colorscale": [
             [
              0,
              "#0d0887"
             ],
             [
              0.1111111111111111,
              "#46039f"
             ],
             [
              0.2222222222222222,
              "#7201a8"
             ],
             [
              0.3333333333333333,
              "#9c179e"
             ],
             [
              0.4444444444444444,
              "#bd3786"
             ],
             [
              0.5555555555555556,
              "#d8576b"
             ],
             [
              0.6666666666666666,
              "#ed7953"
             ],
             [
              0.7777777777777778,
              "#fb9f3a"
             ],
             [
              0.8888888888888888,
              "#fdca26"
             ],
             [
              1,
              "#f0f921"
             ]
            ],
            "type": "surface"
           }
          ],
          "table": [
           {
            "cells": {
             "fill": {
              "color": "#EBF0F8"
             },
             "line": {
              "color": "white"
             }
            },
            "header": {
             "fill": {
              "color": "#C8D4E3"
             },
             "line": {
              "color": "white"
             }
            },
            "type": "table"
           }
          ]
         },
         "layout": {
          "annotationdefaults": {
           "arrowcolor": "#2a3f5f",
           "arrowhead": 0,
           "arrowwidth": 1
          },
          "autotypenumbers": "strict",
          "coloraxis": {
           "colorbar": {
            "outlinewidth": 0,
            "ticks": ""
           }
          },
          "colorscale": {
           "diverging": [
            [
             0,
             "#8e0152"
            ],
            [
             0.1,
             "#c51b7d"
            ],
            [
             0.2,
             "#de77ae"
            ],
            [
             0.3,
             "#f1b6da"
            ],
            [
             0.4,
             "#fde0ef"
            ],
            [
             0.5,
             "#f7f7f7"
            ],
            [
             0.6,
             "#e6f5d0"
            ],
            [
             0.7,
             "#b8e186"
            ],
            [
             0.8,
             "#7fbc41"
            ],
            [
             0.9,
             "#4d9221"
            ],
            [
             1,
             "#276419"
            ]
           ],
           "sequential": [
            [
             0,
             "#0d0887"
            ],
            [
             0.1111111111111111,
             "#46039f"
            ],
            [
             0.2222222222222222,
             "#7201a8"
            ],
            [
             0.3333333333333333,
             "#9c179e"
            ],
            [
             0.4444444444444444,
             "#bd3786"
            ],
            [
             0.5555555555555556,
             "#d8576b"
            ],
            [
             0.6666666666666666,
             "#ed7953"
            ],
            [
             0.7777777777777778,
             "#fb9f3a"
            ],
            [
             0.8888888888888888,
             "#fdca26"
            ],
            [
             1,
             "#f0f921"
            ]
           ],
           "sequentialminus": [
            [
             0,
             "#0d0887"
            ],
            [
             0.1111111111111111,
             "#46039f"
            ],
            [
             0.2222222222222222,
             "#7201a8"
            ],
            [
             0.3333333333333333,
             "#9c179e"
            ],
            [
             0.4444444444444444,
             "#bd3786"
            ],
            [
             0.5555555555555556,
             "#d8576b"
            ],
            [
             0.6666666666666666,
             "#ed7953"
            ],
            [
             0.7777777777777778,
             "#fb9f3a"
            ],
            [
             0.8888888888888888,
             "#fdca26"
            ],
            [
             1,
             "#f0f921"
            ]
           ]
          },
          "colorway": [
           "#636efa",
           "#EF553B",
           "#00cc96",
           "#ab63fa",
           "#FFA15A",
           "#19d3f3",
           "#FF6692",
           "#B6E880",
           "#FF97FF",
           "#FECB52"
          ],
          "font": {
           "color": "#2a3f5f"
          },
          "geo": {
           "bgcolor": "white",
           "lakecolor": "white",
           "landcolor": "#E5ECF6",
           "showlakes": true,
           "showland": true,
           "subunitcolor": "white"
          },
          "hoverlabel": {
           "align": "left"
          },
          "hovermode": "closest",
          "mapbox": {
           "style": "light"
          },
          "paper_bgcolor": "white",
          "plot_bgcolor": "#E5ECF6",
          "polar": {
           "angularaxis": {
            "gridcolor": "white",
            "linecolor": "white",
            "ticks": ""
           },
           "bgcolor": "#E5ECF6",
           "radialaxis": {
            "gridcolor": "white",
            "linecolor": "white",
            "ticks": ""
           }
          },
          "scene": {
           "xaxis": {
            "backgroundcolor": "#E5ECF6",
            "gridcolor": "white",
            "gridwidth": 2,
            "linecolor": "white",
            "showbackground": true,
            "ticks": "",
            "zerolinecolor": "white"
           },
           "yaxis": {
            "backgroundcolor": "#E5ECF6",
            "gridcolor": "white",
            "gridwidth": 2,
            "linecolor": "white",
            "showbackground": true,
            "ticks": "",
            "zerolinecolor": "white"
           },
           "zaxis": {
            "backgroundcolor": "#E5ECF6",
            "gridcolor": "white",
            "gridwidth": 2,
            "linecolor": "white",
            "showbackground": true,
            "ticks": "",
            "zerolinecolor": "white"
           }
          },
          "shapedefaults": {
           "line": {
            "color": "#2a3f5f"
           }
          },
          "ternary": {
           "aaxis": {
            "gridcolor": "white",
            "linecolor": "white",
            "ticks": ""
           },
           "baxis": {
            "gridcolor": "white",
            "linecolor": "white",
            "ticks": ""
           },
           "bgcolor": "#E5ECF6",
           "caxis": {
            "gridcolor": "white",
            "linecolor": "white",
            "ticks": ""
           }
          },
          "title": {
           "x": 0.05
          },
          "xaxis": {
           "automargin": true,
           "gridcolor": "white",
           "linecolor": "white",
           "ticks": "",
           "title": {
            "standoff": 15
           },
           "zerolinecolor": "white",
           "zerolinewidth": 2
          },
          "yaxis": {
           "automargin": true,
           "gridcolor": "white",
           "linecolor": "white",
           "ticks": "",
           "title": {
            "standoff": 15
           },
           "zerolinecolor": "white",
           "zerolinewidth": 2
          }
         }
        },
        "title": {
         "text": "Endereços em cadastro",
         "x": 1
        }
       }
      },
      "text/html": [
       "<div>                            <div id=\"f2c9cfb0-87cf-480c-bc9b-0cc31b688518\" class=\"plotly-graph-div\" style=\"height:525px; width:100%;\"></div>            <script type=\"text/javascript\">                require([\"plotly\"], function(Plotly) {                    window.PLOTLYENV=window.PLOTLYENV || {};                                    if (document.getElementById(\"f2c9cfb0-87cf-480c-bc9b-0cc31b688518\")) {                    Plotly.newPlot(                        \"f2c9cfb0-87cf-480c-bc9b-0cc31b688518\",                        [{\"geo\":\"geo\",\"hovertemplate\":\"<b>%{hovertext}</b><br><br>estado=PE<br>Latitude=%{lat}<br>Longitude=%{lon}<extra></extra>\",\"hovertext\":[\"Alessandra Evelyn Sebastiana Sales\"],\"lat\":[-8.125227103212072],\"legendgroup\":\"PE\",\"lon\":[-34.93582917508908],\"marker\":{\"color\":\"#636efa\",\"symbol\":\"circle\"},\"mode\":\"markers\",\"name\":\"PE\",\"showlegend\":true,\"type\":\"scattergeo\"},{\"geo\":\"geo\",\"hovertemplate\":\"<b>%{hovertext}</b><br><br>estado=CE<br>Latitude=%{lat}<br>Longitude=%{lon}<extra></extra>\",\"hovertext\":[\"Alice Regina de Paula\",\"Caleb Bruno Jo\\u00e3o Nunes\",\"Leonardo Nelson Davi Pereira\",\"Raquel Agatha dos Santos\",\"Stefany Rosa das Neves\"],\"lat\":[-3.834514801869019,-3.713306738882004,-3.750694994232937,-3.8346114371699604,-7.230792366644738],\"legendgroup\":\"CE\",\"lon\":[-38.52016022396743,-40.334192245100255,-38.53729002575264,-38.59062913620477,-39.29266401476398],\"marker\":{\"color\":\"#EF553B\",\"symbol\":\"circle\"},\"mode\":\"markers\",\"name\":\"CE\",\"showlegend\":true,\"type\":\"scattergeo\"},{\"geo\":\"geo\",\"hovertemplate\":\"<b>%{hovertext}</b><br><br>estado=DF<br>Latitude=%{lat}<br>Longitude=%{lon}<extra></extra>\",\"hovertext\":[\"Amanda Teresinha Stella Monteiro\",\"Gael F\\u00e1bio Rodrigo Barros\",\"Sarah Nina da Luz\"],\"lat\":[-15.884342276977128,-15.77828999999997,-15.77828999999997],\"legendgroup\":\"DF\",\"lon\":[-48.01409275813897,-47.929089999999974,-47.929089999999974],\"marker\":{\"color\":\"#00cc96\",\"symbol\":\"circle\"},\"mode\":\"markers\",\"name\":\"DF\",\"showlegend\":true,\"type\":\"scattergeo\"},{\"geo\":\"geo\",\"hovertemplate\":\"<b>%{hovertext}</b><br><br>estado=AP<br>Latitude=%{lat}<br>Longitude=%{lon}<extra></extra>\",\"hovertext\":[\"Analu Stella Arag\\u00e3o\",\"Andreia Helena Sophia Lima\",\"Rodrigo Bryan Jos\\u00e9 Monteiro\"],\"lat\":[0.04434273777917235,0.036445017921018064,0.054250000000024556],\"legendgroup\":\"AP\",\"lon\":[-51.126614806134285,-51.05265499141656,-51.04367499999995],\"marker\":{\"color\":\"#ab63fa\",\"symbol\":\"circle\"},\"mode\":\"markers\",\"name\":\"AP\",\"showlegend\":true,\"type\":\"scattergeo\"},{\"geo\":\"geo\",\"hovertemplate\":\"<b>%{hovertext}</b><br><br>estado=ES<br>Latitude=%{lat}<br>Longitude=%{lon}<extra></extra>\",\"hovertext\":[\"Anthony Miguel Guilherme Viana\",\"Cau\\u00e3 Roberto Nunes\",\"Isaac Elias Campos\",\"Nicolas Giovanni Baptista\"],\"lat\":[-20.83596223391896,-20.31518000192716,-20.371849142825454,-20.37309920821262],\"legendgroup\":\"ES\",\"lon\":[-41.15042449666723,-40.33893940493467,-40.31353833779801,-40.34644071727835],\"marker\":{\"color\":\"#FFA15A\",\"symbol\":\"circle\"},\"mode\":\"markers\",\"name\":\"ES\",\"showlegend\":true,\"type\":\"scattergeo\"},{\"geo\":\"geo\",\"hovertemplate\":\"<b>%{hovertext}</b><br><br>estado=AM<br>Latitude=%{lat}<br>Longitude=%{lon}<extra></extra>\",\"hovertext\":[\"Aurora Isabella Mirella Galv\\u00e3o\",\"Lorenzo Henrique Apar\\u00edcio\"],\"lat\":[-3.1055878208312966,-3.0777804999999603],\"legendgroup\":\"AM\",\"lon\":[-59.9857225382442,-59.94595337199996],\"marker\":{\"color\":\"#19d3f3\",\"symbol\":\"circle\"},\"mode\":\"markers\",\"name\":\"AM\",\"showlegend\":true,\"type\":\"scattergeo\"},{\"geo\":\"geo\",\"hovertemplate\":\"<b>%{hovertext}</b><br><br>estado=AL<br>Latitude=%{lat}<br>Longitude=%{lon}<extra></extra>\",\"hovertext\":[\"Ben\\u00edcio Marcos Vinicius Iago das Neves\"],\"lat\":[-9.643127782474153],\"legendgroup\":\"AL\",\"lon\":[-35.73393669950706],\"marker\":{\"color\":\"#FF6692\",\"symbol\":\"circle\"},\"mode\":\"markers\",\"name\":\"AL\",\"showlegend\":true,\"type\":\"scattergeo\"},{\"geo\":\"geo\",\"hovertemplate\":\"<b>%{hovertext}</b><br><br>estado=BA<br>Latitude=%{lat}<br>Longitude=%{lon}<extra></extra>\",\"hovertext\":[\"Benjamin Raul Castro\"],\"lat\":[-14.782599995277167],\"legendgroup\":\"BA\",\"lon\":[-39.27249001305199],\"marker\":{\"color\":\"#B6E880\",\"symbol\":\"circle\"},\"mode\":\"markers\",\"name\":\"BA\",\"showlegend\":true,\"type\":\"scattergeo\"},{\"geo\":\"geo\",\"hovertemplate\":\"<b>%{hovertext}</b><br><br>estado=PR<br>Latitude=%{lat}<br>Longitude=%{lon}<extra></extra>\",\"hovertext\":[\"Bruno Enzo Ian da Rosa\",\"Elo\\u00e1 Rita Lav\\u00ednia Ramos\",\"Jos\\u00e9 Pedro Breno Alves\",\"Kau\\u00ea Victor Thomas da Mota\",\"Laura Nicole Novaes\",\"Thiago Guilherme da Cruz\"],\"lat\":[-23.26281275977383,-23.08152999872413,-25.38783500687584,-23.297674525164016,-25.45415086540192,-23.32589001084021],\"legendgroup\":\"PR\",\"lon\":[-51.167615568920326,-52.443990024013445,-49.25844001083563,-51.154594588658355,-49.5096853270998,-51.15157004033753],\"marker\":{\"color\":\"#FF97FF\",\"symbol\":\"circle\"},\"mode\":\"markers\",\"name\":\"PR\",\"showlegend\":true,\"type\":\"scattergeo\"},{\"geo\":\"geo\",\"hovertemplate\":\"<b>%{hovertext}</b><br><br>estado=MT<br>Latitude=%{lat}<br>Longitude=%{lon}<extra></extra>\",\"hovertext\":[\"Carolina Marlene Giovana Ferreira\",\"Emanuelly Sueli Nascimento\",\"Jos\\u00e9 Raul Luiz da Costa\",\"Lucca Caleb Marcos Vinicius Rocha\"],\"lat\":[-16.447995940818235,-15.640654046231951,-15.548852745139055,-15.605289994555193],\"legendgroup\":\"MT\",\"lon\":[-54.602052355666615,-56.059503467928536,-56.02960991207258,-55.99606498889442],\"marker\":{\"color\":\"#FECB52\",\"symbol\":\"circle\"},\"mode\":\"markers\",\"name\":\"MT\",\"showlegend\":true,\"type\":\"scattergeo\"},{\"geo\":\"geo\",\"hovertemplate\":\"<b>%{hovertext}</b><br><br>estado=AC<br>Latitude=%{lat}<br>Longitude=%{lon}<extra></extra>\",\"hovertext\":[\"Carolina Vera Teresinha Barbosa\",\"Larissa F\\u00e1tima Priscila Assis\"],\"lat\":[-9.987329601999932,-9.953191435616882],\"legendgroup\":\"AC\",\"lon\":[-67.60857441599995,-67.83501618071166],\"marker\":{\"color\":\"#636efa\",\"symbol\":\"circle\"},\"mode\":\"markers\",\"name\":\"AC\",\"showlegend\":true,\"type\":\"scattergeo\"},{\"geo\":\"geo\",\"hovertemplate\":\"<b>%{hovertext}</b><br><br>estado=PB<br>Latitude=%{lat}<br>Longitude=%{lon}<extra></extra>\",\"hovertext\":[\"Catarina Alana Rosa Porto\",\"Clara Betina Oliveira\",\"Gael Benjamin Lima\",\"Ricardo Benjamin Carvalho\"],\"lat\":[-7.130430139989181,-7.032620004393451,-7.215771347302095,-7.070570410060939],\"legendgroup\":\"PB\",\"lon\":[-34.8397245176044,-34.85027999843018,-35.88300985755365,-34.84995869167525],\"marker\":{\"color\":\"#EF553B\",\"symbol\":\"circle\"},\"mode\":\"markers\",\"name\":\"PB\",\"showlegend\":true,\"type\":\"scattergeo\"},{\"geo\":\"geo\",\"hovertemplate\":\"<b>%{hovertext}</b><br><br>estado=RN<br>Latitude=%{lat}<br>Longitude=%{lon}<extra></extra>\",\"hovertext\":[\"Eduardo Luan Barbosa\",\"Roberto Pietro Arag\\u00e3o\"],\"lat\":[-5.843142020172635,-5.7597073339389455],\"legendgroup\":\"RN\",\"lon\":[-37.98978419391094,-35.254532877235626],\"marker\":{\"color\":\"#00cc96\",\"symbol\":\"circle\"},\"mode\":\"markers\",\"name\":\"RN\",\"showlegend\":true,\"type\":\"scattergeo\"},{\"geo\":\"geo\",\"hovertemplate\":\"<b>%{hovertext}</b><br><br>estado=MG<br>Latitude=%{lat}<br>Longitude=%{lon}<extra></extra>\",\"hovertext\":[\"Elisa Cl\\u00e1udia Costa\",\"Heloise Fabiana Almeida\",\"Vit\\u00f3ria Liz Isabelly Alves\"],\"lat\":[-21.697749994554442,-18.64091500072691,-19.81503865828085],\"legendgroup\":\"MG\",\"lon\":[-42.960130024217136,-48.191380029085536,-44.02879045243739],\"marker\":{\"color\":\"#ab63fa\",\"symbol\":\"circle\"},\"mode\":\"markers\",\"name\":\"MG\",\"showlegend\":true,\"type\":\"scattergeo\"},{\"geo\":\"geo\",\"hovertemplate\":\"<b>%{hovertext}</b><br><br>estado=SC<br>Latitude=%{lat}<br>Longitude=%{lon}<extra></extra>\",\"hovertext\":[\"Emilly Malu Beatriz Ramos\",\"Simone Kamilly B\\u00e1rbara da Cunha\"],\"lat\":[-27.682791295999948,-27.17270156716355],\"legendgroup\":\"SC\",\"lon\":[-48.65263999899997,-49.58694148453333],\"marker\":{\"color\":\"#FFA15A\",\"symbol\":\"circle\"},\"mode\":\"markers\",\"name\":\"SC\",\"showlegend\":true,\"type\":\"scattergeo\"},{\"geo\":\"geo\",\"hovertemplate\":\"<b>%{hovertext}</b><br><br>estado=PA<br>Latitude=%{lat}<br>Longitude=%{lon}<extra></extra>\",\"hovertext\":[\"Erick Caio Rodrigues\"],\"lat\":[-1.3050945814826436],\"legendgroup\":\"PA\",\"lon\":[-48.46162933652399],\"marker\":{\"color\":\"#19d3f3\",\"symbol\":\"circle\"},\"mode\":\"markers\",\"name\":\"PA\",\"showlegend\":true,\"type\":\"scattergeo\"},{\"geo\":\"geo\",\"hovertemplate\":\"<b>%{hovertext}</b><br><br>estado=RR<br>Latitude=%{lat}<br>Longitude=%{lon}<extra></extra>\",\"hovertext\":[\"Gabrielly Malu Emanuelly Jesus\"],\"lat\":[2.8380679610000357],\"legendgroup\":\"RR\",\"lon\":[-60.725994999999955],\"marker\":{\"color\":\"#FF6692\",\"symbol\":\"circle\"},\"mode\":\"markers\",\"name\":\"RR\",\"showlegend\":true,\"type\":\"scattergeo\"},{\"geo\":\"geo\",\"hovertemplate\":\"<b>%{hovertext}</b><br><br>estado=SE<br>Latitude=%{lat}<br>Longitude=%{lon}<extra></extra>\",\"hovertext\":[\"Heitor Marcelo da Mata\",\"Juliana Jaqueline Melo\",\"Marcelo Fernando Jesus\"],\"lat\":[-11.088185063453402,-11.001338155298631,-10.917270007039079],\"legendgroup\":\"SE\",\"lon\":[-37.14964437352638,-37.090680362532,-37.081030028444275],\"marker\":{\"color\":\"#B6E880\",\"symbol\":\"circle\"},\"mode\":\"markers\",\"name\":\"SE\",\"showlegend\":true,\"type\":\"scattergeo\"},{\"geo\":\"geo\",\"hovertemplate\":\"<b>%{hovertext}</b><br><br>estado=GO<br>Latitude=%{lat}<br>Longitude=%{lon}<extra></extra>\",\"hovertext\":[\"Jo\\u00e3o Gabriel Novaes\",\"M\\u00e1rcio Bento Matheus Mendes\"],\"lat\":[-15.943069999999977,-18.399642599029985],\"legendgroup\":\"GO\",\"lon\":[-48.257119999999986,-49.19785608547262],\"marker\":{\"color\":\"#FF97FF\",\"symbol\":\"circle\"},\"mode\":\"markers\",\"name\":\"GO\",\"showlegend\":true,\"type\":\"scattergeo\"},{\"geo\":\"geo\",\"hovertemplate\":\"<b>%{hovertext}</b><br><br>estado=MS<br>Latitude=%{lat}<br>Longitude=%{lon}<extra></extra>\",\"hovertext\":[\"La\\u00eds Beatriz Freitas\"],\"lat\":[-22.22381658901514],\"legendgroup\":\"MS\",\"lon\":[-54.851558854265015],\"marker\":{\"color\":\"#FECB52\",\"symbol\":\"circle\"},\"mode\":\"markers\",\"name\":\"MS\",\"showlegend\":true,\"type\":\"scattergeo\"},{\"geo\":\"geo\",\"hovertemplate\":\"<b>%{hovertext}</b><br><br>estado=RS<br>Latitude=%{lat}<br>Longitude=%{lon}<extra></extra>\",\"hovertext\":[\"Marina Carolina Stella Melo\",\"Sebasti\\u00e3o Yuri Oliver Farias\",\"Silvana Luana Pires\"],\"lat\":[-30.098674998198952,-28.303882645818025,-29.69572499845909],\"legendgroup\":\"RS\",\"lon\":[-51.24134001379896,-52.394179240056985,-52.42420500257248],\"marker\":{\"color\":\"#636efa\",\"symbol\":\"circle\"},\"mode\":\"markers\",\"name\":\"RS\",\"showlegend\":true,\"type\":\"scattergeo\"},{\"geo\":\"geo\",\"hovertemplate\":\"<b>%{hovertext}</b><br><br>estado=SP<br>Latitude=%{lat}<br>Longitude=%{lon}<extra></extra>\",\"hovertext\":[\"Mirella Nat\\u00e1lia Pietra Fernandes\"],\"lat\":[-21.28628465662153],\"legendgroup\":\"SP\",\"lon\":[-50.371761418463564],\"marker\":{\"color\":\"#EF553B\",\"symbol\":\"circle\"},\"mode\":\"markers\",\"name\":\"SP\",\"showlegend\":true,\"type\":\"scattergeo\"},{\"geo\":\"geo\",\"hovertemplate\":\"<b>%{hovertext}</b><br><br>estado=TO<br>Latitude=%{lat}<br>Longitude=%{lon}<extra></extra>\",\"hovertext\":[\"Ot\\u00e1vio Tom\\u00e1s Osvaldo Santos\",\"Sebasti\\u00e3o Diogo Martins\"],\"lat\":[-10.24677294099386,-11.748590477896357],\"legendgroup\":\"TO\",\"lon\":[-48.33739705462993,-49.09124573114013],\"marker\":{\"color\":\"#00cc96\",\"symbol\":\"circle\"},\"mode\":\"markers\",\"name\":\"TO\",\"showlegend\":true,\"type\":\"scattergeo\"},{\"geo\":\"geo\",\"hovertemplate\":\"<b>%{hovertext}</b><br><br>estado=RO<br>Latitude=%{lat}<br>Longitude=%{lon}<extra></extra>\",\"hovertext\":[\"Raimunda Alana Apar\\u00edcio\",\"Sabrina Vera Emanuelly Porto\"],\"lat\":[-8.770971084861179,-10.90029633916999],\"legendgroup\":\"RO\",\"lon\":[-63.82399423215341,-61.93073330137051],\"marker\":{\"color\":\"#ab63fa\",\"symbol\":\"circle\"},\"mode\":\"markers\",\"name\":\"RO\",\"showlegend\":true,\"type\":\"scattergeo\"},{\"geo\":\"geo\",\"hovertemplate\":\"<b>%{hovertext}</b><br><br>estado=RJ<br>Latitude=%{lat}<br>Longitude=%{lon}<extra></extra>\",\"hovertext\":[\"Silvana Lara Corte Real\"],\"lat\":[-22.49263299986758],\"legendgroup\":\"RJ\",\"lon\":[-44.11905026281649],\"marker\":{\"color\":\"#FFA15A\",\"symbol\":\"circle\"},\"mode\":\"markers\",\"name\":\"RJ\",\"showlegend\":true,\"type\":\"scattergeo\"}],                        {\"template\":{\"data\":{\"histogram2dcontour\":[{\"type\":\"histogram2dcontour\",\"colorbar\":{\"outlinewidth\":0,\"ticks\":\"\"},\"colorscale\":[[0.0,\"#0d0887\"],[0.1111111111111111,\"#46039f\"],[0.2222222222222222,\"#7201a8\"],[0.3333333333333333,\"#9c179e\"],[0.4444444444444444,\"#bd3786\"],[0.5555555555555556,\"#d8576b\"],[0.6666666666666666,\"#ed7953\"],[0.7777777777777778,\"#fb9f3a\"],[0.8888888888888888,\"#fdca26\"],[1.0,\"#f0f921\"]]}],\"choropleth\":[{\"type\":\"choropleth\",\"colorbar\":{\"outlinewidth\":0,\"ticks\":\"\"}}],\"histogram2d\":[{\"type\":\"histogram2d\",\"colorbar\":{\"outlinewidth\":0,\"ticks\":\"\"},\"colorscale\":[[0.0,\"#0d0887\"],[0.1111111111111111,\"#46039f\"],[0.2222222222222222,\"#7201a8\"],[0.3333333333333333,\"#9c179e\"],[0.4444444444444444,\"#bd3786\"],[0.5555555555555556,\"#d8576b\"],[0.6666666666666666,\"#ed7953\"],[0.7777777777777778,\"#fb9f3a\"],[0.8888888888888888,\"#fdca26\"],[1.0,\"#f0f921\"]]}],\"heatmap\":[{\"type\":\"heatmap\",\"colorbar\":{\"outlinewidth\":0,\"ticks\":\"\"},\"colorscale\":[[0.0,\"#0d0887\"],[0.1111111111111111,\"#46039f\"],[0.2222222222222222,\"#7201a8\"],[0.3333333333333333,\"#9c179e\"],[0.4444444444444444,\"#bd3786\"],[0.5555555555555556,\"#d8576b\"],[0.6666666666666666,\"#ed7953\"],[0.7777777777777778,\"#fb9f3a\"],[0.8888888888888888,\"#fdca26\"],[1.0,\"#f0f921\"]]}],\"heatmapgl\":[{\"type\":\"heatmapgl\",\"colorbar\":{\"outlinewidth\":0,\"ticks\":\"\"},\"colorscale\":[[0.0,\"#0d0887\"],[0.1111111111111111,\"#46039f\"],[0.2222222222222222,\"#7201a8\"],[0.3333333333333333,\"#9c179e\"],[0.4444444444444444,\"#bd3786\"],[0.5555555555555556,\"#d8576b\"],[0.6666666666666666,\"#ed7953\"],[0.7777777777777778,\"#fb9f3a\"],[0.8888888888888888,\"#fdca26\"],[1.0,\"#f0f921\"]]}],\"contourcarpet\":[{\"type\":\"contourcarpet\",\"colorbar\":{\"outlinewidth\":0,\"ticks\":\"\"}}],\"contour\":[{\"type\":\"contour\",\"colorbar\":{\"outlinewidth\":0,\"ticks\":\"\"},\"colorscale\":[[0.0,\"#0d0887\"],[0.1111111111111111,\"#46039f\"],[0.2222222222222222,\"#7201a8\"],[0.3333333333333333,\"#9c179e\"],[0.4444444444444444,\"#bd3786\"],[0.5555555555555556,\"#d8576b\"],[0.6666666666666666,\"#ed7953\"],[0.7777777777777778,\"#fb9f3a\"],[0.8888888888888888,\"#fdca26\"],[1.0,\"#f0f921\"]]}],\"surface\":[{\"type\":\"surface\",\"colorbar\":{\"outlinewidth\":0,\"ticks\":\"\"},\"colorscale\":[[0.0,\"#0d0887\"],[0.1111111111111111,\"#46039f\"],[0.2222222222222222,\"#7201a8\"],[0.3333333333333333,\"#9c179e\"],[0.4444444444444444,\"#bd3786\"],[0.5555555555555556,\"#d8576b\"],[0.6666666666666666,\"#ed7953\"],[0.7777777777777778,\"#fb9f3a\"],[0.8888888888888888,\"#fdca26\"],[1.0,\"#f0f921\"]]}],\"mesh3d\":[{\"type\":\"mesh3d\",\"colorbar\":{\"outlinewidth\":0,\"ticks\":\"\"}}],\"scatter\":[{\"fillpattern\":{\"fillmode\":\"overlay\",\"size\":10,\"solidity\":0.2},\"type\":\"scatter\"}],\"parcoords\":[{\"type\":\"parcoords\",\"line\":{\"colorbar\":{\"outlinewidth\":0,\"ticks\":\"\"}}}],\"scatterpolargl\":[{\"type\":\"scatterpolargl\",\"marker\":{\"colorbar\":{\"outlinewidth\":0,\"ticks\":\"\"}}}],\"bar\":[{\"error_x\":{\"color\":\"#2a3f5f\"},\"error_y\":{\"color\":\"#2a3f5f\"},\"marker\":{\"line\":{\"color\":\"#E5ECF6\",\"width\":0.5},\"pattern\":{\"fillmode\":\"overlay\",\"size\":10,\"solidity\":0.2}},\"type\":\"bar\"}],\"scattergeo\":[{\"type\":\"scattergeo\",\"marker\":{\"colorbar\":{\"outlinewidth\":0,\"ticks\":\"\"}}}],\"scatterpolar\":[{\"type\":\"scatterpolar\",\"marker\":{\"colorbar\":{\"outlinewidth\":0,\"ticks\":\"\"}}}],\"histogram\":[{\"marker\":{\"pattern\":{\"fillmode\":\"overlay\",\"size\":10,\"solidity\":0.2}},\"type\":\"histogram\"}],\"scattergl\":[{\"type\":\"scattergl\",\"marker\":{\"colorbar\":{\"outlinewidth\":0,\"ticks\":\"\"}}}],\"scatter3d\":[{\"type\":\"scatter3d\",\"line\":{\"colorbar\":{\"outlinewidth\":0,\"ticks\":\"\"}},\"marker\":{\"colorbar\":{\"outlinewidth\":0,\"ticks\":\"\"}}}],\"scattermapbox\":[{\"type\":\"scattermapbox\",\"marker\":{\"colorbar\":{\"outlinewidth\":0,\"ticks\":\"\"}}}],\"scatterternary\":[{\"type\":\"scatterternary\",\"marker\":{\"colorbar\":{\"outlinewidth\":0,\"ticks\":\"\"}}}],\"scattercarpet\":[{\"type\":\"scattercarpet\",\"marker\":{\"colorbar\":{\"outlinewidth\":0,\"ticks\":\"\"}}}],\"carpet\":[{\"aaxis\":{\"endlinecolor\":\"#2a3f5f\",\"gridcolor\":\"white\",\"linecolor\":\"white\",\"minorgridcolor\":\"white\",\"startlinecolor\":\"#2a3f5f\"},\"baxis\":{\"endlinecolor\":\"#2a3f5f\",\"gridcolor\":\"white\",\"linecolor\":\"white\",\"minorgridcolor\":\"white\",\"startlinecolor\":\"#2a3f5f\"},\"type\":\"carpet\"}],\"table\":[{\"cells\":{\"fill\":{\"color\":\"#EBF0F8\"},\"line\":{\"color\":\"white\"}},\"header\":{\"fill\":{\"color\":\"#C8D4E3\"},\"line\":{\"color\":\"white\"}},\"type\":\"table\"}],\"barpolar\":[{\"marker\":{\"line\":{\"color\":\"#E5ECF6\",\"width\":0.5},\"pattern\":{\"fillmode\":\"overlay\",\"size\":10,\"solidity\":0.2}},\"type\":\"barpolar\"}],\"pie\":[{\"automargin\":true,\"type\":\"pie\"}]},\"layout\":{\"autotypenumbers\":\"strict\",\"colorway\":[\"#636efa\",\"#EF553B\",\"#00cc96\",\"#ab63fa\",\"#FFA15A\",\"#19d3f3\",\"#FF6692\",\"#B6E880\",\"#FF97FF\",\"#FECB52\"],\"font\":{\"color\":\"#2a3f5f\"},\"hovermode\":\"closest\",\"hoverlabel\":{\"align\":\"left\"},\"paper_bgcolor\":\"white\",\"plot_bgcolor\":\"#E5ECF6\",\"polar\":{\"bgcolor\":\"#E5ECF6\",\"angularaxis\":{\"gridcolor\":\"white\",\"linecolor\":\"white\",\"ticks\":\"\"},\"radialaxis\":{\"gridcolor\":\"white\",\"linecolor\":\"white\",\"ticks\":\"\"}},\"ternary\":{\"bgcolor\":\"#E5ECF6\",\"aaxis\":{\"gridcolor\":\"white\",\"linecolor\":\"white\",\"ticks\":\"\"},\"baxis\":{\"gridcolor\":\"white\",\"linecolor\":\"white\",\"ticks\":\"\"},\"caxis\":{\"gridcolor\":\"white\",\"linecolor\":\"white\",\"ticks\":\"\"}},\"coloraxis\":{\"colorbar\":{\"outlinewidth\":0,\"ticks\":\"\"}},\"colorscale\":{\"sequential\":[[0.0,\"#0d0887\"],[0.1111111111111111,\"#46039f\"],[0.2222222222222222,\"#7201a8\"],[0.3333333333333333,\"#9c179e\"],[0.4444444444444444,\"#bd3786\"],[0.5555555555555556,\"#d8576b\"],[0.6666666666666666,\"#ed7953\"],[0.7777777777777778,\"#fb9f3a\"],[0.8888888888888888,\"#fdca26\"],[1.0,\"#f0f921\"]],\"sequentialminus\":[[0.0,\"#0d0887\"],[0.1111111111111111,\"#46039f\"],[0.2222222222222222,\"#7201a8\"],[0.3333333333333333,\"#9c179e\"],[0.4444444444444444,\"#bd3786\"],[0.5555555555555556,\"#d8576b\"],[0.6666666666666666,\"#ed7953\"],[0.7777777777777778,\"#fb9f3a\"],[0.8888888888888888,\"#fdca26\"],[1.0,\"#f0f921\"]],\"diverging\":[[0,\"#8e0152\"],[0.1,\"#c51b7d\"],[0.2,\"#de77ae\"],[0.3,\"#f1b6da\"],[0.4,\"#fde0ef\"],[0.5,\"#f7f7f7\"],[0.6,\"#e6f5d0\"],[0.7,\"#b8e186\"],[0.8,\"#7fbc41\"],[0.9,\"#4d9221\"],[1,\"#276419\"]]},\"xaxis\":{\"gridcolor\":\"white\",\"linecolor\":\"white\",\"ticks\":\"\",\"title\":{\"standoff\":15},\"zerolinecolor\":\"white\",\"automargin\":true,\"zerolinewidth\":2},\"yaxis\":{\"gridcolor\":\"white\",\"linecolor\":\"white\",\"ticks\":\"\",\"title\":{\"standoff\":15},\"zerolinecolor\":\"white\",\"automargin\":true,\"zerolinewidth\":2},\"scene\":{\"xaxis\":{\"backgroundcolor\":\"#E5ECF6\",\"gridcolor\":\"white\",\"linecolor\":\"white\",\"showbackground\":true,\"ticks\":\"\",\"zerolinecolor\":\"white\",\"gridwidth\":2},\"yaxis\":{\"backgroundcolor\":\"#E5ECF6\",\"gridcolor\":\"white\",\"linecolor\":\"white\",\"showbackground\":true,\"ticks\":\"\",\"zerolinecolor\":\"white\",\"gridwidth\":2},\"zaxis\":{\"backgroundcolor\":\"#E5ECF6\",\"gridcolor\":\"white\",\"linecolor\":\"white\",\"showbackground\":true,\"ticks\":\"\",\"zerolinecolor\":\"white\",\"gridwidth\":2}},\"shapedefaults\":{\"line\":{\"color\":\"#2a3f5f\"}},\"annotationdefaults\":{\"arrowcolor\":\"#2a3f5f\",\"arrowhead\":0,\"arrowwidth\":1},\"geo\":{\"bgcolor\":\"white\",\"landcolor\":\"#E5ECF6\",\"subunitcolor\":\"white\",\"showland\":true,\"showlakes\":true,\"lakecolor\":\"white\"},\"title\":{\"x\":0.05},\"mapbox\":{\"style\":\"light\"}}},\"geo\":{\"domain\":{\"x\":[0.0,1.0],\"y\":[0.0,1.0]},\"center\":{}},\"legend\":{\"title\":{\"text\":\"estado\"},\"tracegroupgap\":0},\"margin\":{\"t\":60},\"title\":{\"text\":\"Endere\\u00e7os em cadastro\",\"x\":1}},                        {\"responsive\": true}                    ).then(function(){\n",
       "                            \n",
       "var gd = document.getElementById('f2c9cfb0-87cf-480c-bc9b-0cc31b688518');\n",
       "var x = new MutationObserver(function (mutations, observer) {{\n",
       "        var display = window.getComputedStyle(gd).display;\n",
       "        if (!display || display === 'none') {{\n",
       "            console.log([gd, 'removed!']);\n",
       "            Plotly.purge(gd);\n",
       "            observer.disconnect();\n",
       "        }}\n",
       "}});\n",
       "\n",
       "// Listen for the removal of the full notebook cells\n",
       "var notebookContainer = gd.closest('#notebook-container');\n",
       "if (notebookContainer) {{\n",
       "    x.observe(notebookContainer, {childList: true});\n",
       "}}\n",
       "\n",
       "// Listen for the clearing of the current output cell\n",
       "var outputEl = gd.closest('.output');\n",
       "if (outputEl) {{\n",
       "    x.observe(outputEl, {childList: true});\n",
       "}}\n",
       "\n",
       "                        })                };                });            </script>        </div>"
      ]
     },
     "metadata": {},
     "output_type": "display_data"
    }
   ],
   "source": [
    "fig = px.scatter_geo(df, lat='Latitude', lon='Longitude', hover_name='nome', color=\"estado\")\n",
    "fig.update_layout(title='Endereços em cadastro', title_x=1)\n",
    "fig.show()"
   ]
  },
  {
   "cell_type": "markdown",
   "id": "d7e201fd",
   "metadata": {},
   "source": [
    "### Exportando CVS"
   ]
  },
  {
   "cell_type": "code",
   "execution_count": 22,
   "id": "be55d2da",
   "metadata": {},
   "outputs": [],
   "source": [
    "df['Latitude'] = df['Latitude'].astype(str).apply(lambda x: x.replace('.',','))\n",
    "df['Longitude'] = df['Longitude'].astype(str).apply(lambda x: x.replace('.',','))\n",
    "\n",
    "df.to_csv('data.csv', encoding='latin1', sep=';', index=False)"
   ]
  },
  {
   "cell_type": "markdown",
   "id": "7535e109",
   "metadata": {},
   "source": [
    "### Consulta por localidade específica"
   ]
  },
  {
   "cell_type": "code",
   "execution_count": 26,
   "id": "3240a815",
   "metadata": {},
   "outputs": [
    {
     "name": "stdout",
     "output_type": "stream",
     "text": [
      "-22.964668509447478\n",
      "-43.17560187396783\n"
     ]
    }
   ],
   "source": [
    "busca = 'Avenida Nossa senhora de Copacabana, 123, Copacabana, RJ'\n",
    "\n",
    "print(nom.geocode(busca).latitude)\n",
    "print(nom.geocode(busca).longitude)"
   ]
  }
 ],
 "metadata": {
  "kernelspec": {
   "display_name": "Python 3 (ipykernel)",
   "language": "python",
   "name": "python3"
  },
  "language_info": {
   "codemirror_mode": {
    "name": "ipython",
    "version": 3
   },
   "file_extension": ".py",
   "mimetype": "text/x-python",
   "name": "python",
   "nbconvert_exporter": "python",
   "pygments_lexer": "ipython3",
   "version": "3.9.7"
  }
 },
 "nbformat": 4,
 "nbformat_minor": 5
}
